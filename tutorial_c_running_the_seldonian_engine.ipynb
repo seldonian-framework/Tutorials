{
  "nbformat": 4,
  "nbformat_minor": 0,
  "metadata": {
    "colab": {
      "provenance": [],
      "authorship_tag": "ABX9TyNjruWKyfa855jTSYIxFojh",
      "include_colab_link": true
    },
    "kernelspec": {
      "name": "python3",
      "display_name": "Python 3"
    },
    "language_info": {
      "name": "python"
    }
  },
  "cells": [
    {
      "cell_type": "markdown",
      "metadata": {
        "id": "view-in-github",
        "colab_type": "text"
      },
      "source": [
        "<a href=\"https://colab.research.google.com/github/seldonian-toolkit/Tutorials/blob/main/tutorial_c_running_the_seldonian_engine.ipynb\" target=\"_parent\"><img src=\"https://colab.research.google.com/assets/colab-badge.svg\" alt=\"Open In Colab\"/></a>"
      ]
    },
    {
      "cell_type": "markdown",
      "source": [
        "## Table of contents\n",
        "> Introduction \n",
        "\n",
        "> Outline\n",
        "\n",
        "> An example Seldonian machine learning problem\n",
        "\n",
        "> Install Seldonian Engine library\n",
        "\n",
        "> Running the Seldonian Engine\n",
        "\n",
        "> Extracting important quantities\n",
        "\n",
        "> Summary\n",
        "\n"
      ],
      "metadata": {
        "colab_type": "toc",
        "id": "uMwVehqPskV2"
      }
    },
    {
      "cell_type": "markdown",
      "source": [
        "<a name=\"introduction\"></a>\n",
        "## Introduction\n",
        "The Seldonian Engine library is one of the components of the Seldonian Toolkit. The engine is the core library that implements a basic Seldonian algorithm. The Experiments library is another component of the toolkit that runs many trials of a Seldonian algorithm. In doing so, it calls the engine many times. Because the Experiments library is dependent on the Engine library, but not vice versa, we present the Engine first in these tutorials. However, once you are more familiar with these libraries and Seldonian algorithms in general, you will find that the typical workflow involves first running Seldonian Experiments with the Experiments library. Once a Seldonian model is vetted with the Experiments library, then one can run the engine a single time to obtain a safe or fair model. The process can be thought of analogously to the development/deployment process. The Experiments library is used for development, and when it is time to deploy the model, the Engine library is used.\n"
      ],
      "metadata": {
        "id": "NpekMrcN4flH"
      }
    },
    {
      "cell_type": "markdown",
      "source": [
        "<a name=\"outline\"></a>\n",
        "## Outline\n",
        "In this tutorial, you will learn how to:\n",
        "\n",
        "* Use the engine to set up a (quasi)-Seldonian machine learning algorithm (QSA).\n",
        "* Run the algorithm using the engine and understand its output.\n",
        "\n",
        "Note that due to the choice of confidence-bound method used in this tutorial (Student's $t$-test), the algorithms in this tutorial are technically quasi-Seldonian algorithms (QSAs). See <a href=\"https://seldonian.cs.umass.edu/Tutorials/overview/\">the overview</a> for more details.\n",
        "\n",
        "\n",
        "\n",
        "\n",
        "\n"
      ],
      "metadata": {
        "id": "kYluGsGaT5ph"
      }
    },
    {
      "cell_type": "markdown",
      "source": [
        "<a name=\"example\"></a>\n",
        "## An example Seldonian machine learning problem\n",
        "Consider a simple supervised regression problem with two continuous random variables $X$ and $Y$. Let the goal be to predict the label $Y$ using the single feature $X$. One approach to this problem is to use gradient descent on a linear regression model with the mean squared error (MSE) as the objective function. Recall that the mean squared error of predictions $\\hat Y$ is the expected squared difference between the actual value of $Y$ and the prediction $\\hat Y$, i.e., $\\mathbf{E}[(Y-\\hat Y)^2]$. We can approximate an optimal solution by minimizing the objective function with respect to the weights of the model, $\\theta$, which in this case are just the intercept and slope of the line.\n",
        "\n",
        "Now, let's suppose we want to add the following two constraints into the problem:\n",
        "\n",
        "\n",
        "1.  Ensure that the MSE is less than or equal to $2.0$ with a probability of at least $0.9$. \n",
        "2. Ensure that the MSE is <i>greater than or equal to</i> $1.25$ with a probability of at least $0.9$.\n",
        "\n",
        "Notice that this second constraint conflicts with the primary objective of minimizing the MSE. Though this particular constraint is contrived, it models the common setting of interest wherein safety and fairness constraints conflict with the primary objective.\n",
        "\n",
        "This problem can now be fully formulated as a Seldonian machine learning problem:\n",
        "\n",
        "Minimize the MSE, subject to the constraints:\n",
        "\n",
        "*  $g_{1}: \\mathrm{Mean\\_Squared\\_Error} \\leq 2.0$, and ${\\delta}_1=0.1$.  \n",
        "*  $g_{2}: \\mathrm{Mean\\_Squared\\_Error} \\geq 1.25$, and ${\\delta}_2=0.1$.\n",
        "\n",
        "First, notice that the values of ${\\delta}_1$ and ${\\delta}_2$ are both $0.1$. This is because constraints are enforced with a probability of at least $1-{\\delta}$, and we stated that the constraints should be enforced with a probability of at least $0.9$. The Seldonian algorithm will attempt to satisfy both of these constraints simultaneously, while also minimizing the primary objective, the MSE. If it cannot find a solution that satisfies the constraints at the confidence levels provided, it will return \"NSF\", i.e., \"No Solution Found\". \n",
        "\n",
        "Next, notice that here the MSE is <i>not</i> just the average squared error on the available training data. These constraints are much stronger: they are constraints on the MSE when the learned model is applied to <i>new data</i>. This is important because we don't just want machine learning models that appear to be safe or fair on the training data. We want machine learning models that are safe or fair when used to made decisions or predictions in the future.\n",
        "\n"
      ],
      "metadata": {
        "id": "rcLBd2UxVXXh"
      }
    },
    {
      "cell_type": "markdown",
      "source": [
        "<a name=\"install\"></a>\n",
        "## Install Seldonian Engine library"
      ],
      "metadata": {
        "id": "xS6ClwpB4Ry0"
      }
    },
    {
      "cell_type": "code",
      "source": [
        "# first check Python version. Needs to be Python >= 3.8\n",
        "!python --version"
      ],
      "metadata": {
        "colab": {
          "base_uri": "https://localhost:8080/"
        },
        "id": "ajatLi2nX4Au",
        "outputId": "56186077-420e-4c5b-d203-f10257875253"
      },
      "execution_count": null,
      "outputs": [
        {
          "output_type": "stream",
          "name": "stdout",
          "text": [
            "Python 3.8.16\n"
          ]
        }
      ]
    },
    {
      "cell_type": "code",
      "source": [
        "!pip install seldonian-engine==0.7.7"
      ],
      "metadata": {
        "colab": {
          "base_uri": "https://localhost:8080/"
        },
        "id": "1RdJnjn-37DJ",
        "outputId": "3a43688c-8428-4889-d6db-3d6843e61ea8"
      },
      "execution_count": null,
      "outputs": [
        {
          "output_type": "stream",
          "name": "stdout",
          "text": [
            "Looking in indexes: https://pypi.org/simple, https://us-python.pkg.dev/colab-wheels/public/simple/\n",
            "Collecting seldonian-engine==0.7.7\n",
            "  Downloading seldonian_engine-0.7.7-py3-none-any.whl (116 kB)\n",
            "\u001b[2K     \u001b[90m━━━━━━━━━━━━━━━━━━━━━━━━━━━━━━━━━━━━━━━\u001b[0m \u001b[32m116.1/116.1 KB\u001b[0m \u001b[31m8.6 MB/s\u001b[0m eta \u001b[36m0:00:00\u001b[0m\n",
            "\u001b[?25hRequirement already satisfied: numpy>=1.21.4 in /usr/local/lib/python3.8/dist-packages (from seldonian-engine==0.7.7) (1.21.6)\n",
            "Requirement already satisfied: matplotlib==3.5.1 in /usr/local/lib/python3.8/dist-packages (from seldonian-engine==0.7.7) (3.5.1)\n",
            "Requirement already satisfied: cma>=3.2.2 in /usr/local/lib/python3.8/dist-packages (from seldonian-engine==0.7.7) (3.2.2)\n",
            "Requirement already satisfied: autograd>=1.4 in /usr/local/lib/python3.8/dist-packages (from seldonian-engine==0.7.7) (1.5)\n",
            "Requirement already satisfied: tqdm>=4.64.0 in /usr/local/lib/python3.8/dist-packages (from seldonian-engine==0.7.7) (4.64.1)\n",
            "Requirement already satisfied: scikit-learn>=1.1.1 in /usr/local/lib/python3.8/dist-packages (from seldonian-engine==0.7.7) (1.2.0)\n",
            "Requirement already satisfied: scipy>=1.7.3 in /usr/local/lib/python3.8/dist-packages (from seldonian-engine==0.7.7) (1.7.3)\n",
            "Requirement already satisfied: torch>=1.12.1 in /usr/local/lib/python3.8/dist-packages (from seldonian-engine==0.7.7) (1.13.0+cu116)\n",
            "Requirement already satisfied: pytest>=7.0.1 in /usr/local/lib/python3.8/dist-packages (from seldonian-engine==0.7.7) (7.2.0)\n",
            "Requirement already satisfied: pandas>=1.4.1 in /usr/local/lib/python3.8/dist-packages (from seldonian-engine==0.7.7) (1.5.2)\n",
            "Requirement already satisfied: graphviz>=0.19.1 in /usr/local/lib/python3.8/dist-packages (from seldonian-engine==0.7.7) (0.20.1)\n",
            "Requirement already satisfied: packaging>=20.0 in /usr/local/lib/python3.8/dist-packages (from matplotlib==3.5.1->seldonian-engine==0.7.7) (21.3)\n",
            "Requirement already satisfied: pyparsing>=2.2.1 in /usr/local/lib/python3.8/dist-packages (from matplotlib==3.5.1->seldonian-engine==0.7.7) (3.0.9)\n",
            "Requirement already satisfied: kiwisolver>=1.0.1 in /usr/local/lib/python3.8/dist-packages (from matplotlib==3.5.1->seldonian-engine==0.7.7) (1.4.4)\n",
            "Requirement already satisfied: cycler>=0.10 in /usr/local/lib/python3.8/dist-packages (from matplotlib==3.5.1->seldonian-engine==0.7.7) (0.11.0)\n",
            "Requirement already satisfied: fonttools>=4.22.0 in /usr/local/lib/python3.8/dist-packages (from matplotlib==3.5.1->seldonian-engine==0.7.7) (4.38.0)\n",
            "Requirement already satisfied: pillow>=6.2.0 in /usr/local/lib/python3.8/dist-packages (from matplotlib==3.5.1->seldonian-engine==0.7.7) (7.1.2)\n",
            "Requirement already satisfied: python-dateutil>=2.7 in /usr/local/lib/python3.8/dist-packages (from matplotlib==3.5.1->seldonian-engine==0.7.7) (2.8.2)\n",
            "Requirement already satisfied: future>=0.15.2 in /usr/local/lib/python3.8/dist-packages (from autograd>=1.4->seldonian-engine==0.7.7) (0.16.0)\n",
            "Requirement already satisfied: pytz>=2020.1 in /usr/local/lib/python3.8/dist-packages (from pandas>=1.4.1->seldonian-engine==0.7.7) (2022.7)\n",
            "Requirement already satisfied: attrs>=19.2.0 in /usr/local/lib/python3.8/dist-packages (from pytest>=7.0.1->seldonian-engine==0.7.7) (22.2.0)\n",
            "Requirement already satisfied: exceptiongroup>=1.0.0rc8 in /usr/local/lib/python3.8/dist-packages (from pytest>=7.0.1->seldonian-engine==0.7.7) (1.1.0)\n",
            "Requirement already satisfied: pluggy<2.0,>=0.12 in /usr/local/lib/python3.8/dist-packages (from pytest>=7.0.1->seldonian-engine==0.7.7) (1.0.0)\n",
            "Requirement already satisfied: iniconfig in /usr/local/lib/python3.8/dist-packages (from pytest>=7.0.1->seldonian-engine==0.7.7) (1.1.1)\n",
            "Requirement already satisfied: tomli>=1.0.0 in /usr/local/lib/python3.8/dist-packages (from pytest>=7.0.1->seldonian-engine==0.7.7) (2.0.1)\n",
            "Requirement already satisfied: threadpoolctl>=2.0.0 in /usr/local/lib/python3.8/dist-packages (from scikit-learn>=1.1.1->seldonian-engine==0.7.7) (3.1.0)\n",
            "Requirement already satisfied: joblib>=1.1.1 in /usr/local/lib/python3.8/dist-packages (from scikit-learn>=1.1.1->seldonian-engine==0.7.7) (1.2.0)\n",
            "Requirement already satisfied: typing-extensions in /usr/local/lib/python3.8/dist-packages (from torch>=1.12.1->seldonian-engine==0.7.7) (4.4.0)\n",
            "Requirement already satisfied: six>=1.5 in /usr/local/lib/python3.8/dist-packages (from python-dateutil>=2.7->matplotlib==3.5.1->seldonian-engine==0.7.7) (1.15.0)\n",
            "Installing collected packages: seldonian-engine\n",
            "  Attempting uninstall: seldonian-engine\n",
            "    Found existing installation: seldonian-engine 0.7.6\n",
            "    Uninstalling seldonian-engine-0.7.6:\n",
            "      Successfully uninstalled seldonian-engine-0.7.6\n",
            "Successfully installed seldonian-engine-0.7.7\n"
          ]
        }
      ]
    },
    {
      "cell_type": "markdown",
      "source": [
        "<a name=\"running_the_engine\"></a>\n",
        "## Running the Seldonian Engine\n",
        "\n",
        "\n",
        "To code this example using the engine, we need to follow these steps.\n",
        "\n",
        "\n",
        "1.  Define the data — we will generate some synthetic data for X and Y for this case.\n",
        "2.  Create parse trees from the behavioral constraints.\n",
        "3.  Define the underlying machine learning model. \n",
        "4.  Create a spec object containing all of this information and some hyperparameters — we can ignore many of these in this example. For a full list of parameters and their default values, see the API docs for <a href=\"https://seldonian-toolkit.github.io/Engine/build/html/_autosummary/seldonian.spec.SupervisedSpec.html#seldonian.spec.SupervisedSpec\">SupervisedSpec</a>.\n",
        "5. Run the Seldonian algorithm using the spec object. \n",
        "\n",
        "Let's write out the code to do this. Each step above is enumerated in comments in the code below. We will make heavy use of helper functions with many hidden defaults. In the tutorials that follow, we will explore how to customize running the engine."
      ],
      "metadata": {
        "id": "Zs81Oq09XySE"
      }
    },
    {
      "cell_type": "code",
      "source": [
        "# Imports first\n",
        "import autograd.numpy as np   # Thinly-wrapped version of Numpy\n",
        "from seldonian.models.models import LinearRegressionModel\n",
        "from seldonian.spec import SupervisedSpec\n",
        "from seldonian.seldonian_algorithm import SeldonianAlgorithm\n",
        "from seldonian.utils.tutorial_utils import (\n",
        "    make_synthetic_regression_dataset)\n",
        "from seldonian.parse_tree.parse_tree import (\n",
        "    make_parse_trees_from_constraints)"
      ],
      "metadata": {
        "id": "tPzwD3TFYSxp"
      },
      "execution_count": null,
      "outputs": []
    },
    {
      "cell_type": "code",
      "source": [
        "np.random.seed(0)\n",
        "num_points=1000  \n",
        "# 1. Define the data - X ~ N(0,1), Y ~ X + N(0,1)\n",
        "dataset = make_synthetic_regression_dataset(\n",
        "    num_points=num_points)"
      ],
      "metadata": {
        "id": "TRE50ZPOYd0B"
      },
      "execution_count": null,
      "outputs": []
    },
    {
      "cell_type": "code",
      "source": [
        "# 2. Create parse trees from the behavioral constraints \n",
        "# constraint strings:\n",
        "constraint_strs = ['Mean_Squared_Error >= 1.25','Mean_Squared_Error <= 2.0']\n",
        "# confidence levels: \n",
        "deltas = [0.1,0.1] \n",
        "\n",
        "parse_trees = make_parse_trees_from_constraints(\n",
        "    constraint_strs,deltas)"
      ],
      "metadata": {
        "id": "V-JfEtNxYmS0"
      },
      "execution_count": null,
      "outputs": []
    },
    {
      "cell_type": "code",
      "source": [
        "# 3. Define the underlying machine learning model\n",
        "model = LinearRegressionModel()"
      ],
      "metadata": {
        "id": "Lq3XcxCcYrZZ"
      },
      "execution_count": null,
      "outputs": []
    },
    {
      "cell_type": "code",
      "source": [
        "# 4. Create a spec object, using some\n",
        "# hidden defaults we won't worry about here\n",
        "spec = SupervisedSpec(\n",
        "    dataset=dataset,\n",
        "    model=model,\n",
        "    parse_trees=parse_trees,\n",
        "    sub_regime='regression',\n",
        ")"
      ],
      "metadata": {
        "id": "z8tgk45pYuVG"
      },
      "execution_count": null,
      "outputs": []
    },
    {
      "cell_type": "code",
      "source": [
        "# 5. Run seldonian algorithm using the spec object\n",
        "SA = SeldonianAlgorithm(spec)\n",
        "passed_safety,solution = SA.run()"
      ],
      "metadata": {
        "colab": {
          "base_uri": "https://localhost:8080/"
        },
        "id": "3F3tlqPtYytS",
        "outputId": "66b0bfd1-51e7-4723-e700-3eed30ceffad"
      },
      "execution_count": null,
      "outputs": [
        {
          "output_type": "stream",
          "name": "stdout",
          "text": [
            "Safety dataset has 600 datapoints\n",
            "Candidate dataset has 400 datapoints\n",
            "Have 200 epochs and 1 batches of size 400 for a total of 200 iterations\n",
            "Epoch: 0, batch iteration 0\n",
            "Epoch: 1, batch iteration 0\n",
            "Epoch: 2, batch iteration 0\n",
            "Epoch: 3, batch iteration 0\n",
            "Epoch: 4, batch iteration 0\n",
            "Epoch: 5, batch iteration 0\n",
            "Epoch: 6, batch iteration 0\n",
            "Epoch: 7, batch iteration 0\n",
            "Epoch: 8, batch iteration 0\n",
            "Epoch: 9, batch iteration 0\n",
            "Epoch: 10, batch iteration 0\n",
            "Epoch: 11, batch iteration 0\n",
            "Epoch: 12, batch iteration 0\n",
            "Epoch: 13, batch iteration 0\n",
            "Epoch: 14, batch iteration 0\n",
            "Epoch: 15, batch iteration 0\n",
            "Epoch: 16, batch iteration 0\n",
            "Epoch: 17, batch iteration 0\n",
            "Epoch: 18, batch iteration 0\n",
            "Epoch: 19, batch iteration 0\n",
            "Epoch: 20, batch iteration 0\n",
            "Epoch: 21, batch iteration 0\n",
            "Epoch: 22, batch iteration 0\n",
            "Epoch: 23, batch iteration 0\n",
            "Epoch: 24, batch iteration 0\n",
            "Epoch: 25, batch iteration 0\n",
            "Epoch: 26, batch iteration 0\n",
            "Epoch: 27, batch iteration 0\n",
            "Epoch: 28, batch iteration 0\n",
            "Epoch: 29, batch iteration 0\n",
            "Epoch: 30, batch iteration 0\n",
            "Epoch: 31, batch iteration 0\n",
            "Epoch: 32, batch iteration 0\n",
            "Epoch: 33, batch iteration 0\n",
            "Epoch: 34, batch iteration 0\n",
            "Epoch: 35, batch iteration 0\n",
            "Epoch: 36, batch iteration 0\n",
            "Epoch: 37, batch iteration 0\n",
            "Epoch: 38, batch iteration 0\n",
            "Epoch: 39, batch iteration 0\n",
            "Epoch: 40, batch iteration 0\n",
            "Epoch: 41, batch iteration 0\n",
            "Epoch: 42, batch iteration 0\n",
            "Epoch: 43, batch iteration 0\n",
            "Epoch: 44, batch iteration 0\n",
            "Epoch: 45, batch iteration 0\n",
            "Epoch: 46, batch iteration 0\n",
            "Epoch: 47, batch iteration 0\n",
            "Epoch: 48, batch iteration 0\n",
            "Epoch: 49, batch iteration 0\n",
            "Epoch: 50, batch iteration 0\n",
            "Epoch: 51, batch iteration 0\n",
            "Epoch: 52, batch iteration 0\n",
            "Epoch: 53, batch iteration 0\n",
            "Epoch: 54, batch iteration 0\n",
            "Epoch: 55, batch iteration 0\n",
            "Epoch: 56, batch iteration 0\n",
            "Epoch: 57, batch iteration 0\n",
            "Epoch: 58, batch iteration 0\n",
            "Epoch: 59, batch iteration 0\n",
            "Epoch: 60, batch iteration 0\n",
            "Epoch: 61, batch iteration 0\n",
            "Epoch: 62, batch iteration 0\n",
            "Epoch: 63, batch iteration 0\n",
            "Epoch: 64, batch iteration 0\n",
            "Epoch: 65, batch iteration 0\n",
            "Epoch: 66, batch iteration 0\n",
            "Epoch: 67, batch iteration 0\n",
            "Epoch: 68, batch iteration 0\n",
            "Epoch: 69, batch iteration 0\n",
            "Epoch: 70, batch iteration 0\n",
            "Epoch: 71, batch iteration 0\n",
            "Epoch: 72, batch iteration 0\n",
            "Epoch: 73, batch iteration 0\n",
            "Epoch: 74, batch iteration 0\n",
            "Epoch: 75, batch iteration 0\n",
            "Epoch: 76, batch iteration 0\n",
            "Epoch: 77, batch iteration 0\n",
            "Epoch: 78, batch iteration 0\n",
            "Epoch: 79, batch iteration 0\n",
            "Epoch: 80, batch iteration 0\n",
            "Epoch: 81, batch iteration 0\n",
            "Epoch: 82, batch iteration 0\n",
            "Epoch: 83, batch iteration 0\n",
            "Epoch: 84, batch iteration 0\n",
            "Epoch: 85, batch iteration 0\n",
            "Epoch: 86, batch iteration 0\n",
            "Epoch: 87, batch iteration 0\n",
            "Epoch: 88, batch iteration 0\n",
            "Epoch: 89, batch iteration 0\n",
            "Epoch: 90, batch iteration 0\n",
            "Epoch: 91, batch iteration 0\n",
            "Epoch: 92, batch iteration 0\n",
            "Epoch: 93, batch iteration 0\n",
            "Epoch: 94, batch iteration 0\n",
            "Epoch: 95, batch iteration 0\n",
            "Epoch: 96, batch iteration 0\n",
            "Epoch: 97, batch iteration 0\n",
            "Epoch: 98, batch iteration 0\n",
            "Epoch: 99, batch iteration 0\n",
            "Epoch: 100, batch iteration 0\n",
            "Epoch: 101, batch iteration 0\n",
            "Epoch: 102, batch iteration 0\n",
            "Epoch: 103, batch iteration 0\n",
            "Epoch: 104, batch iteration 0\n",
            "Epoch: 105, batch iteration 0\n",
            "Epoch: 106, batch iteration 0\n",
            "Epoch: 107, batch iteration 0\n",
            "Epoch: 108, batch iteration 0\n",
            "Epoch: 109, batch iteration 0\n",
            "Epoch: 110, batch iteration 0\n",
            "Epoch: 111, batch iteration 0\n",
            "Epoch: 112, batch iteration 0\n",
            "Epoch: 113, batch iteration 0\n",
            "Epoch: 114, batch iteration 0\n",
            "Epoch: 115, batch iteration 0\n",
            "Epoch: 116, batch iteration 0\n",
            "Epoch: 117, batch iteration 0\n",
            "Epoch: 118, batch iteration 0\n",
            "Epoch: 119, batch iteration 0\n",
            "Epoch: 120, batch iteration 0\n",
            "Epoch: 121, batch iteration 0\n",
            "Epoch: 122, batch iteration 0\n",
            "Epoch: 123, batch iteration 0\n",
            "Epoch: 124, batch iteration 0\n",
            "Epoch: 125, batch iteration 0\n",
            "Epoch: 126, batch iteration 0\n",
            "Epoch: 127, batch iteration 0\n",
            "Epoch: 128, batch iteration 0\n",
            "Epoch: 129, batch iteration 0\n",
            "Epoch: 130, batch iteration 0\n",
            "Epoch: 131, batch iteration 0\n",
            "Epoch: 132, batch iteration 0\n",
            "Epoch: 133, batch iteration 0\n",
            "Epoch: 134, batch iteration 0\n",
            "Epoch: 135, batch iteration 0\n",
            "Epoch: 136, batch iteration 0\n",
            "Epoch: 137, batch iteration 0\n",
            "Epoch: 138, batch iteration 0\n",
            "Epoch: 139, batch iteration 0\n",
            "Epoch: 140, batch iteration 0\n",
            "Epoch: 141, batch iteration 0\n",
            "Epoch: 142, batch iteration 0\n",
            "Epoch: 143, batch iteration 0\n",
            "Epoch: 144, batch iteration 0\n",
            "Epoch: 145, batch iteration 0\n",
            "Epoch: 146, batch iteration 0\n",
            "Epoch: 147, batch iteration 0\n",
            "Epoch: 148, batch iteration 0\n",
            "Epoch: 149, batch iteration 0\n",
            "Epoch: 150, batch iteration 0\n",
            "Epoch: 151, batch iteration 0\n",
            "Epoch: 152, batch iteration 0\n",
            "Epoch: 153, batch iteration 0\n",
            "Epoch: 154, batch iteration 0\n",
            "Epoch: 155, batch iteration 0\n",
            "Epoch: 156, batch iteration 0\n",
            "Epoch: 157, batch iteration 0\n",
            "Epoch: 158, batch iteration 0\n",
            "Epoch: 159, batch iteration 0\n",
            "Epoch: 160, batch iteration 0\n",
            "Epoch: 161, batch iteration 0\n",
            "Epoch: 162, batch iteration 0\n",
            "Epoch: 163, batch iteration 0\n",
            "Epoch: 164, batch iteration 0\n",
            "Epoch: 165, batch iteration 0\n",
            "Epoch: 166, batch iteration 0\n",
            "Epoch: 167, batch iteration 0\n",
            "Epoch: 168, batch iteration 0\n",
            "Epoch: 169, batch iteration 0\n",
            "Epoch: 170, batch iteration 0\n",
            "Epoch: 171, batch iteration 0\n",
            "Epoch: 172, batch iteration 0\n",
            "Epoch: 173, batch iteration 0\n",
            "Epoch: 174, batch iteration 0\n",
            "Epoch: 175, batch iteration 0\n",
            "Epoch: 176, batch iteration 0\n",
            "Epoch: 177, batch iteration 0\n",
            "Epoch: 178, batch iteration 0\n",
            "Epoch: 179, batch iteration 0\n",
            "Epoch: 180, batch iteration 0\n",
            "Epoch: 181, batch iteration 0\n",
            "Epoch: 182, batch iteration 0\n",
            "Epoch: 183, batch iteration 0\n",
            "Epoch: 184, batch iteration 0\n",
            "Epoch: 185, batch iteration 0\n",
            "Epoch: 186, batch iteration 0\n",
            "Epoch: 187, batch iteration 0\n",
            "Epoch: 188, batch iteration 0\n",
            "Epoch: 189, batch iteration 0\n",
            "Epoch: 190, batch iteration 0\n",
            "Epoch: 191, batch iteration 0\n",
            "Epoch: 192, batch iteration 0\n",
            "Epoch: 193, batch iteration 0\n",
            "Epoch: 194, batch iteration 0\n",
            "Epoch: 195, batch iteration 0\n",
            "Epoch: 196, batch iteration 0\n",
            "Epoch: 197, batch iteration 0\n",
            "Epoch: 198, batch iteration 0\n",
            "Epoch: 199, batch iteration 0\n"
          ]
        }
      ]
    },
    {
      "cell_type": "code",
      "source": [
        "print(passed_safety,solution)"
      ],
      "metadata": {
        "colab": {
          "base_uri": "https://localhost:8080/"
        },
        "id": "eVY57KqLY1m5",
        "outputId": "dd904282-d926-4aff-a66c-6c1f95585f7a"
      },
      "execution_count": null,
      "outputs": [
        {
          "output_type": "stream",
          "name": "stdout",
          "text": [
            "True [0.16911355 0.1738146 ]\n"
          ]
        }
      ]
    },
    {
      "cell_type": "markdown",
      "source": [
        "The output shows some of the default values that were hidden in the script. For example, we are running gradient descent in \"batch\" mode, i.e., putting all of our candidate data (400 data points) in at once and running for 200 epochs. These settings can be changed, but we won't cover that in this tutorial.\n",
        "\n",
        "Notice that SA.run() returns two values. `passed_safety` is a Boolean indicating whether the candidate solution found during candidate selection passed the safety test. If `passed_safety==False` , then `solution=\"NSF\"`, i.e., \"No Solution Found\". If `passed_safety==True`, then the solution is the array of model weights that resulted in the safety test passing. In this example, we got `passed_safety=True` and a candidate solution of: `[0.16911355 0.1738146]`, which indicate the intercept and slope of the line that candidate selection found. "
      ],
      "metadata": {
        "id": "jiNzK22wY3lc"
      }
    },
    {
      "cell_type": "markdown",
      "source": [
        "<a name=\"extracting\"></a>\n",
        "## Extracting important quantities\n",
        "There are a few quantities of interest that are not automatically returned by `SA.run()`. One such quantity is the value of the primary objective function (the MSE) evaluated on the safety data for the model weights returned by the algorithm, $\\hat{f}(\\theta_{\\text{cand}},D_{\\text{safety}})$. Given that the solution passed the safety test, we know that $\\hat{f}(\\theta,D_{\\text{safety}})$ will likely be between $1.25$ and $2.0$ (and the actual MSE on future data will be in this range with high probability). The <code class=\"highlight\">SA</code> object provides the introspection we need to extract this information through the <a href=\"https://seldonian-toolkit.github.io/Engine/build/html/_autosummary/seldonian.seldonian_algorithm.SeldonianAlgorithm.html#seldonian.seldonian_algorithm.SeldonianAlgorithm.evaluate_primary_objective\">SA.evaluate_primary_objective()</a> method:"
      ],
      "metadata": {
        "id": "82UONuTEY-f8"
      }
    },
    {
      "cell_type": "code",
      "source": [
        "st_primary_objective = SA.evaluate_primary_objective(\n",
        "    theta=solution,\n",
        "    branch='safety_test')\n",
        "print(st_primary_objective)"
      ],
      "metadata": {
        "colab": {
          "base_uri": "https://localhost:8080/"
        },
        "id": "nwbBBN1UZzfG",
        "outputId": "e9239d04-1cfc-432e-cfd0-295d70aa5234"
      },
      "execution_count": null,
      "outputs": [
        {
          "output_type": "stream",
          "name": "stdout",
          "text": [
            "1.6118814175141167\n"
          ]
        }
      ]
    },
    {
      "cell_type": "markdown",
      "source": [
        "This is indeed between $1.25$ and $2.0$, which satisfies the behavioral constraints. We can use the same method to check the value of the primary objective function evaluated on the candidate data at this solution:"
      ],
      "metadata": {
        "id": "ncLqDnfRZ0Ed"
      }
    },
    {
      "cell_type": "code",
      "source": [
        "cs_primary_objective = SA.evaluate_primary_objective(\n",
        "    theta=solution,\n",
        "    branch='candidate_selection')\n",
        "print(cs_primary_objective)"
      ],
      "metadata": {
        "colab": {
          "base_uri": "https://localhost:8080/"
        },
        "id": "xItKPnzdZ9Su",
        "outputId": "246596b4-158e-4339-82b9-25855d5653a1"
      },
      "execution_count": null,
      "outputs": [
        {
          "output_type": "stream",
          "name": "stdout",
          "text": [
            "1.5566336763115234\n"
          ]
        }
      ]
    },
    {
      "cell_type": "markdown",
      "source": [
        "While we know in this case that the safety test passed, i.e., the high-confidence upper bounds on the constraints were less than or equal to zero, we might be interested in what the actual values of those upper bounds were during the safety test. We can use the <a href=\"https://seldonian-toolkit.github.io/Engine/build/html/_autosummary/seldonian.seldonian_algorithm.SeldonianAlgorithm.html#seldonian.seldonian_algorithm.SeldonianAlgorithm.get_st_upper_bounds\">SA.get_st_upper_bounds()</a> method for this."
      ],
      "metadata": {
        "id": "9xPe5tCyZ-TJ"
      }
    },
    {
      "cell_type": "code",
      "source": [
        "print(SA.get_st_upper_bounds())"
      ],
      "metadata": {
        "colab": {
          "base_uri": "https://localhost:8080/"
        },
        "id": "uFyNKNiMaBpN",
        "outputId": "cac5f3cc-09c0-4d88-b26d-e43294acc2ff"
      },
      "execution_count": null,
      "outputs": [
        {
          "output_type": "stream",
          "name": "stdout",
          "text": [
            "{'1.25-(Mean_Squared_Error)': -0.2448558988476761, 'Mean_Squared_Error-(2.0)': -0.2710930638194431}\n"
          ]
        }
      ]
    },
    {
      "cell_type": "markdown",
      "source": [
        "This returns a dictionary where the keys are the constraint strings and the values are the upper bounds. The values you see should be close to the values above, but may differ slightly. Here are some things to note about this dictionary:\n",
        "\n",
        "\n",
        "*   Both upper bounds are less than or equal to zero, as expected. \n",
        "*   The keys of this dictionary show the constraint strings in a slightly different form than how we originally defined them. They are written in the form: $g_i \\leq 0$, where $g_i$ here represents the $i$th constraint function. For example, $1.25-(\\text{Mean_Squared_Error})\\leq0$ is mathematically equivalent to $\\text{Mean_Squared_Error} \\geq 1.25$, the form we used to specify our second constraint at the beginning of the tutorial. This rearrangement is done for consistency in interpreting the upper bounds\n",
        "*   Because this information is returned in a dictionary, the order of the constraints is not guaranteed to be the same as the order in which we specified our constraints originally.\n",
        "\n",
        "More introspection to the `SA` object is possible, but it is beyond the scope of this tutorial."
      ],
      "metadata": {
        "id": "ZaxesMdOaI9q"
      }
    },
    {
      "cell_type": "markdown",
      "source": [
        "<a name=\"summary\"></a>\n",
        "## Summary\n",
        "In this tutorial, we demonstrated how to:\n",
        "\n",
        "*  Use the engine to set up a Seldonian machine learning algorithm.\n",
        "*  Run the algorithm using the engine.\n",
        "*  Extract and understand important quantities generated by the engine."
      ],
      "metadata": {
        "id": "p6FDXwoXaMTw"
      }
    },
    {
      "cell_type": "code",
      "source": [],
      "metadata": {
        "id": "XSwwtNGTbri3"
      },
      "execution_count": null,
      "outputs": []
    }
  ]
}