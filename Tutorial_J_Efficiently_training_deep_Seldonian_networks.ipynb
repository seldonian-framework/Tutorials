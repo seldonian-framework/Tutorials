{
  "nbformat": 4,
  "nbformat_minor": 0,
  "metadata": {
    "colab": {
      "provenance": [],
      "toc_visible": true,
      "authorship_tag": "ABX9TyPnY1vm3jFnQ9HU5TMkvi+l",
      "include_colab_link": true
    },
    "kernelspec": {
      "name": "python3",
      "display_name": "Python 3"
    },
    "language_info": {
      "name": "python"
    },
    "accelerator": "GPU",
    "gpuClass": "standard"
  },
  "cells": [
    {
      "cell_type": "markdown",
      "metadata": {
        "id": "view-in-github",
        "colab_type": "text"
      },
      "source": [
        "<a href=\"https://colab.research.google.com/github/seldonian-toolkit/Tutorials/blob/main/Tutorial_J_Efficiently_training_deep_Seldonian_networks.ipynb\" target=\"_parent\"><img src=\"https://colab.research.google.com/assets/colab-badge.svg\" alt=\"Open In Colab\"/></a>"
      ]
    },
    {
      "cell_type": "markdown",
      "source": [
        "# Contents\n",
        "* <a href=\"#intro\">Introduction</a>\n",
        "* <a href=\"#outline\">Outline of method</a>\n",
        "* <a href=\"#example\">Example: efficiently training a Seldonian facial recognition system</a>\n",
        "  * <a href=\"#prelim\">Preliminaries</a>\n",
        "    * <a href=\"#cuda\">Make sure GPU is enabled with CUDA</a>\n",
        "    * <a href=\"#install\">Install Seldonian libraries</a>\n",
        "    * <a href=\"#imports\">Imports</a>\n",
        "    * <a href=\"#dataset_prep\">Dataset preparation</a>\n",
        "  * <a href=\"#step1\">Step 1. Split data into two datasets</a>\n",
        "  * <a href=\"#step2\">Step 2. Train the full network on the candidate data only</a>\n",
        "  * <a href=\"#step3\">Step 3. Separate out the \"body\" and the \"head\" of the full network into two separate models</a>\n",
        "  * <a href=\"#step4\">Step 4. Assign the weight sfrom the trained full network to the new body-only model</a>\n",
        "  * <a href=\"#step5\">Step 5. Pass all of the data (both datasets from step 1) through the trained \"body-only\" model</a>\n",
        "  * <a href=\"#step6\">Step 6. The head-only model is the model we will use in the toolkit. </a>\n",
        "  * <a href=\"#step7\">Step 7. The data we will use are the latent features created in step 5. </a>\n",
        "  * <a href=\"#step8\">Step 8. Assign the `frac_data_in_safety` parameter of the spec object to be the same split fraction as you used in step 1. </a>\n",
        "  * <a href=\"#step9\">Step 9. Run the Seldonian Engine/Experiments as normal, except now the model is a simple linear model instead of a deep network </a>\n",
        "  * <a href=\"#experiments\">Run a Seldonian Experiment. </a>\n"
      ],
      "metadata": {
        "id": "-1SZZ0TC56bN"
      }
    },
    {
      "cell_type": "markdown",
      "source": [
        "<a name=\"intro\"></a>\n",
        "# Introduction\n",
        "\n",
        "Modern deep networks can have billions of trainable parameters, making them computationally expensive to train. Furthermore, hyperparameter tuning usually involves re-training the model many times with different hyperparameters, making it a potential bottleneck in machine learning workflows. In Seldonian algorithms, the addition of constraints increases the computational burden of model training. The number of constraints and the complexity of each constraint will determine how much additional compute is necessary to perform <a href=\"https://seldonian.cs.umass.edu/Tutorials/tutorials/alg_details_tutorial/#candidate_selection\">candidate selection</a>. The toolkit can leverage GPUs when the model is written in PyTorch or Tensorflow to mitigate the computational burden (see <a href=\"https://seldonian.cs.umass.edu/Tutorials/tutorials/pytorch_mnist/\">Tutorial G: Creating your first Seldonian PyTorch model</a>, for example). However, training large models subject to constraints is an unavoidably expensive computation.\n",
        "\n",
        "\n",
        "The computational burden of candidate selection can be vastly minimized if we simplify the model we need to train subject to the constraints. We hypothesize that most of the hidden layers of a deep learning model can be trained *without* knowledge of the constraints. In general, early layers of a deep network generally learn basic features, and as layer depth increases so does the complexity of the features that are learned. For example, in a convolutional neural network learning to distinguish between images of cats and dogs, the first few layers might learn basic edge filters, and the deeper layers might learn more complex features such as coat patterns and whisker shapes. The final few layers contain the task-specific information that connect the learned features to the output layer. For many types of constraints, it is unlikely that the parameters of the early layers, such as the shape detectors, need to be adjusted to accommodate the constraints. We conjecture that **only the final layer(s) need to be trained in the Seldonian algorithm**, and the rest of the network can be trained in the conventional way without constraints. \n",
        "\n",
        "In this tutorial, we formalize the process described above for efficiently training deep networks subject to constraints using the toolkit. We apply this method to the <a href=\"https://seldonian.cs.umass.edu/Tutorials/examples/facial_recognition/\">Gender bias in facial recognition example</a>. We find that using only the final layer in the network when training the Seldonian algorithm, we can achieve equal performance and constraint-satisfaction as we did when using the entire network. \n"
      ],
      "metadata": {
        "id": "Kecd67DD7u5K"
      }
    },
    {
      "cell_type": "markdown",
      "source": [
        "<a name=\"outline\"></a>\n",
        "# Outline of method\n",
        "Here we sketch an outline of the procedure to create efficient deep Seldonian networks by reducing the size of the network that is used in the Seldonian algorithm. The network must be implemented with PyTorch or Tensorflow (or pure Python/NumPy). Note that some steps are to be performed before using the Seldonian Toolkit.\n",
        "\n",
        "\n",
        "<u>Before using the Seldonian Toolkit:</u>\n",
        "1. Randomize the data, then split it into two datasets. The optimal split will depend on your specific problem, but we suggest starting with a 50/50 split. \n",
        "2. Train the full network on one of these sets using your favorite training method, e.g., <a href=\"https://pytorch.org/tutorials/beginner/introyt/trainingyt.html#the-training-loop\">PyTorch</a>. There is no need to include any information about behavioral constraints in this training process. Save the weights of the trained model so that you can access them again later.\n",
        "3.  Separate out the \"body\" and the \"head\" of the full network into two separate models, a \"body-only\" model and a \"head-only\" model. In this tutorial, the head of the network refers to the final fully connected layer (the output layer) of the network. In general, one could split the network anywhere.   \n",
        "4. Assign the weights from the trained full network to the new body-only model so that this body-only model is \"trained.\" Or, simply remove the head of the full network so that you are left only with the trained body.\n",
        "5. Pass <i>all</i> of the data (both datasets from step 1) through the trained \"body-only\" model. Save the outputs of this model. These are your new \"latent features\" that you will use as input to the Seldonian Toolkit.\n",
        "\n",
        "<u>Using the Seldonian Toolkit:</u>\n",
        "6. The head-only model is the model you will use in the toolkit. This head-only model should be initially untrained when used in the toolkit, so don't apply the weights learned in step 2 to the head.\n",
        "7. The data you will use are the latent features created in step 5. \n",
        "8. Assign the `frac_data_in_safety` parameter of the spec object to be the same split fraction as you used in step 1. For example, if you used a 50/50 split, set `frac_data_in_safety=0.5`. It is important that the candidate data you use in the toolkit match the dataset that you used to train the full model in step 2. In other words, <b>no safety data should come from the dataset that was used to train the full model in step 2</b> because that would invalidate the safety/fairness guarantees. The data split that the toolkit performs does not reshuffle the data, so as long as you didn't shuffle the data yourself after step 1 above, this requirement should be met. \n",
        "9. Run the Seldonian engine/experiments as normal, except now your model is a simple linear model instead of a deep network. It should be <b>much</b> faster than using the full model as the Seldonian model, especially if your initial network is large.  \n",
        "\n",
        "<b>Note:</b> if you are starting with a pre-trained network, the steps are slightly different. In this case, you would skip steps 1 and 2. If you have access to the data that was used to train the model, you can use that for candidate selection. However, you must obtain some new data to use for the safety data that was not used to train the pre-trained model. The reason for this is described in step 8. If you do not have access to the data that was used to train the model, then any new data you have can be partitioned into candidate and safety data (via the <code class=\"highlight\">frac_data_in_safety</code> parameter) however you like."
      ],
      "metadata": {
        "id": "M6xNapYF8cQL"
      }
    },
    {
      "cell_type": "markdown",
      "source": [
        "<a name=\"example\"></a>\n",
        "# Example: Example: efficiently training a Seldonian facial recognition system\n",
        "We will now go through an example to make the steps described in the outline above more concrete. We will use the same dataset and model from the <a href=\"https://seldonian.cs.umass.edu/Tutorials/examples/facial_recognition/\">Gender bias in facial recognition example</a>. In that example, we trained a convolutional neural network (CNN) to classify gender from images of faces from the UTKFace dataset, subject to a fairness constraint enforcing that accuracy should be similar when predicting male and female faces. Before following along with the steps above, we need to set up our computing environment properly."
      ],
      "metadata": {
        "id": "FdWDuGWR-da7"
      }
    },
    {
      "cell_type": "markdown",
      "source": [
        "<a name=\"prelim\"></a>\n",
        "## Preliminaries\n",
        "\n",
        "<a name=\"cuda\"></a>\n",
        "### Make sure GPU is enabled with CUDA\n",
        "In the top bar of this Colab, go to Runtime -> Change runtime type and select \"GPU\" under the hardware accelerator. This will connect you to a new runtime. \n",
        "\n",
        "<a name=\"install\"></a>\n",
        "### Install the Seldonian libraries"
      ],
      "metadata": {
        "id": "7L0SaXUdViby"
      }
    },
    {
      "cell_type": "code",
      "source": [
        "!pip install seldonian-experiments==0.0.12"
      ],
      "metadata": {
        "colab": {
          "base_uri": "https://localhost:8080/",
          "height": 1000
        },
        "id": "r-E3vgU0SSMZ",
        "outputId": "1f2cdb1a-ff31-438f-fe1a-462c52f084f3"
      },
      "execution_count": 2,
      "outputs": [
        {
          "output_type": "stream",
          "name": "stdout",
          "text": [
            "Looking in indexes: https://pypi.org/simple, https://us-python.pkg.dev/colab-wheels/public/simple/\n",
            "Collecting seldonian-experiments\n",
            "  Downloading seldonian_experiments-0.0.12-py3-none-any.whl (21 kB)\n",
            "Collecting scikit-learn==1.1.1\n",
            "  Downloading scikit_learn-1.1.1-cp38-cp38-manylinux_2_17_x86_64.manylinux2014_x86_64.whl (31.2 MB)\n",
            "\u001b[2K     \u001b[90m━━━━━━━━━━━━━━━━━━━━━━━━━━━━━━━━━━━━━━━━\u001b[0m \u001b[32m31.2/31.2 MB\u001b[0m \u001b[31m53.9 MB/s\u001b[0m eta \u001b[36m0:00:00\u001b[0m\n",
            "\u001b[?25hCollecting tqdm==4.64.0\n",
            "  Downloading tqdm-4.64.0-py2.py3-none-any.whl (78 kB)\n",
            "\u001b[2K     \u001b[90m━━━━━━━━━━━━━━━━━━━━━━━━━━━━━━━━━━━━━━━━\u001b[0m \u001b[32m78.4/78.4 KB\u001b[0m \u001b[31m11.7 MB/s\u001b[0m eta \u001b[36m0:00:00\u001b[0m\n",
            "\u001b[?25hCollecting matplotlib==3.5.1\n",
            "  Downloading matplotlib-3.5.1-cp38-cp38-manylinux_2_5_x86_64.manylinux1_x86_64.whl (11.3 MB)\n",
            "\u001b[2K     \u001b[90m━━━━━━━━━━━━━━━━━━━━━━━━━━━━━━━━━━━━━━━\u001b[0m \u001b[32m11.3/11.3 MB\u001b[0m \u001b[31m107.7 MB/s\u001b[0m eta \u001b[36m0:00:00\u001b[0m\n",
            "\u001b[?25hCollecting seldonian-engine\n",
            "  Downloading seldonian_engine-0.7.7-py3-none-any.whl (116 kB)\n",
            "\u001b[2K     \u001b[90m━━━━━━━━━━━━━━━━━━━━━━━━━━━━━━━━━━━━━━\u001b[0m \u001b[32m116.1/116.1 KB\u001b[0m \u001b[31m14.4 MB/s\u001b[0m eta \u001b[36m0:00:00\u001b[0m\n",
            "\u001b[?25hRequirement already satisfied: cycler>=0.10 in /usr/local/lib/python3.8/dist-packages (from matplotlib==3.5.1->seldonian-experiments) (0.11.0)\n",
            "Requirement already satisfied: pillow>=6.2.0 in /usr/local/lib/python3.8/dist-packages (from matplotlib==3.5.1->seldonian-experiments) (7.1.2)\n",
            "Requirement already satisfied: packaging>=20.0 in /usr/local/lib/python3.8/dist-packages (from matplotlib==3.5.1->seldonian-experiments) (21.3)\n",
            "Requirement already satisfied: kiwisolver>=1.0.1 in /usr/local/lib/python3.8/dist-packages (from matplotlib==3.5.1->seldonian-experiments) (1.4.4)\n",
            "Collecting fonttools>=4.22.0\n",
            "  Downloading fonttools-4.38.0-py3-none-any.whl (965 kB)\n",
            "\u001b[2K     \u001b[90m━━━━━━━━━━━━━━━━━━━━━━━━━━━━━━━━━━━━━━\u001b[0m \u001b[32m965.4/965.4 KB\u001b[0m \u001b[31m67.1 MB/s\u001b[0m eta \u001b[36m0:00:00\u001b[0m\n",
            "\u001b[?25hRequirement already satisfied: numpy>=1.17 in /usr/local/lib/python3.8/dist-packages (from matplotlib==3.5.1->seldonian-experiments) (1.21.6)\n",
            "Requirement already satisfied: python-dateutil>=2.7 in /usr/local/lib/python3.8/dist-packages (from matplotlib==3.5.1->seldonian-experiments) (2.8.2)\n",
            "Requirement already satisfied: pyparsing>=2.2.1 in /usr/local/lib/python3.8/dist-packages (from matplotlib==3.5.1->seldonian-experiments) (3.0.9)\n",
            "Requirement already satisfied: joblib>=1.0.0 in /usr/local/lib/python3.8/dist-packages (from scikit-learn==1.1.1->seldonian-experiments) (1.2.0)\n",
            "Requirement already satisfied: scipy>=1.3.2 in /usr/local/lib/python3.8/dist-packages (from scikit-learn==1.1.1->seldonian-experiments) (1.7.3)\n",
            "Requirement already satisfied: threadpoolctl>=2.0.0 in /usr/local/lib/python3.8/dist-packages (from scikit-learn==1.1.1->seldonian-experiments) (3.1.0)\n",
            "Collecting pandas>=1.4.1\n",
            "  Downloading pandas-1.5.3-cp38-cp38-manylinux_2_17_x86_64.manylinux2014_x86_64.whl (12.2 MB)\n",
            "\u001b[2K     \u001b[90m━━━━━━━━━━━━━━━━━━━━━━━━━━━━━━━━━━━━━━━\u001b[0m \u001b[32m12.2/12.2 MB\u001b[0m \u001b[31m102.0 MB/s\u001b[0m eta \u001b[36m0:00:00\u001b[0m\n",
            "\u001b[?25hCollecting pytest>=7.0.1\n",
            "  Downloading pytest-7.2.1-py3-none-any.whl (317 kB)\n",
            "\u001b[2K     \u001b[90m━━━━━━━━━━━━━━━━━━━━━━━━━━━━━━━━━━━━━━━\u001b[0m \u001b[32m317.1/317.1 KB\u001b[0m \u001b[31m2.0 MB/s\u001b[0m eta \u001b[36m0:00:00\u001b[0m\n",
            "\u001b[?25hCollecting graphviz>=0.19.1\n",
            "  Downloading graphviz-0.20.1-py3-none-any.whl (47 kB)\n",
            "\u001b[2K     \u001b[90m━━━━━━━━━━━━━━━━━━━━━━━━━━━━━━━━━━━━━━━━\u001b[0m \u001b[32m47.0/47.0 KB\u001b[0m \u001b[31m6.5 MB/s\u001b[0m eta \u001b[36m0:00:00\u001b[0m\n",
            "\u001b[?25hRequirement already satisfied: torch>=1.12.1 in /usr/local/lib/python3.8/dist-packages (from seldonian-engine->seldonian-experiments) (1.13.1+cu116)\n",
            "Requirement already satisfied: autograd>=1.4 in /usr/local/lib/python3.8/dist-packages (from seldonian-engine->seldonian-experiments) (1.5)\n",
            "Collecting cma>=3.2.2\n",
            "  Downloading cma-3.2.2-py2.py3-none-any.whl (249 kB)\n",
            "\u001b[2K     \u001b[90m━━━━━━━━━━━━━━━━━━━━━━━━━━━━━━━━━━━━━━\u001b[0m \u001b[32m249.1/249.1 KB\u001b[0m \u001b[31m30.0 MB/s\u001b[0m eta \u001b[36m0:00:00\u001b[0m\n",
            "\u001b[?25hRequirement already satisfied: future>=0.15.2 in /usr/local/lib/python3.8/dist-packages (from autograd>=1.4->seldonian-engine->seldonian-experiments) (0.16.0)\n",
            "Requirement already satisfied: pytz>=2020.1 in /usr/local/lib/python3.8/dist-packages (from pandas>=1.4.1->seldonian-engine->seldonian-experiments) (2022.7)\n",
            "Collecting pluggy<2.0,>=0.12\n",
            "  Downloading pluggy-1.0.0-py2.py3-none-any.whl (13 kB)\n",
            "Collecting exceptiongroup>=1.0.0rc8\n",
            "  Downloading exceptiongroup-1.1.0-py3-none-any.whl (14 kB)\n",
            "Requirement already satisfied: tomli>=1.0.0 in /usr/local/lib/python3.8/dist-packages (from pytest>=7.0.1->seldonian-engine->seldonian-experiments) (2.0.1)\n",
            "Collecting iniconfig\n",
            "  Downloading iniconfig-2.0.0-py3-none-any.whl (5.9 kB)\n",
            "Requirement already satisfied: attrs>=19.2.0 in /usr/local/lib/python3.8/dist-packages (from pytest>=7.0.1->seldonian-engine->seldonian-experiments) (22.2.0)\n",
            "Requirement already satisfied: six>=1.5 in /usr/local/lib/python3.8/dist-packages (from python-dateutil>=2.7->matplotlib==3.5.1->seldonian-experiments) (1.15.0)\n",
            "Requirement already satisfied: typing-extensions in /usr/local/lib/python3.8/dist-packages (from torch>=1.12.1->seldonian-engine->seldonian-experiments) (4.4.0)\n",
            "Installing collected packages: tqdm, pluggy, iniconfig, graphviz, fonttools, exceptiongroup, cma, scikit-learn, pytest, pandas, matplotlib, seldonian-engine, seldonian-experiments\n",
            "  Attempting uninstall: tqdm\n",
            "    Found existing installation: tqdm 4.64.1\n",
            "    Uninstalling tqdm-4.64.1:\n",
            "      Successfully uninstalled tqdm-4.64.1\n",
            "  Attempting uninstall: pluggy\n",
            "    Found existing installation: pluggy 0.7.1\n",
            "    Uninstalling pluggy-0.7.1:\n",
            "      Successfully uninstalled pluggy-0.7.1\n",
            "  Attempting uninstall: graphviz\n",
            "    Found existing installation: graphviz 0.10.1\n",
            "    Uninstalling graphviz-0.10.1:\n",
            "      Successfully uninstalled graphviz-0.10.1\n",
            "  Attempting uninstall: scikit-learn\n",
            "    Found existing installation: scikit-learn 1.0.2\n",
            "    Uninstalling scikit-learn-1.0.2:\n",
            "      Successfully uninstalled scikit-learn-1.0.2\n",
            "  Attempting uninstall: pytest\n",
            "    Found existing installation: pytest 3.6.4\n",
            "    Uninstalling pytest-3.6.4:\n",
            "      Successfully uninstalled pytest-3.6.4\n",
            "  Attempting uninstall: pandas\n",
            "    Found existing installation: pandas 1.3.5\n",
            "    Uninstalling pandas-1.3.5:\n",
            "      Successfully uninstalled pandas-1.3.5\n",
            "  Attempting uninstall: matplotlib\n",
            "    Found existing installation: matplotlib 3.2.2\n",
            "    Uninstalling matplotlib-3.2.2:\n",
            "      Successfully uninstalled matplotlib-3.2.2\n",
            "Successfully installed cma-3.2.2 exceptiongroup-1.1.0 fonttools-4.38.0 graphviz-0.20.1 iniconfig-2.0.0 matplotlib-3.5.1 pandas-1.5.3 pluggy-1.0.0 pytest-7.2.1 scikit-learn-1.1.1 seldonian-engine-0.7.7 seldonian-experiments-0.0.12 tqdm-4.64.0\n"
          ]
        },
        {
          "output_type": "display_data",
          "data": {
            "application/vnd.colab-display-data+json": {
              "pip_warning": {
                "packages": [
                  "matplotlib",
                  "mpl_toolkits"
                ]
              }
            }
          },
          "metadata": {}
        }
      ]
    },
    {
      "cell_type": "markdown",
      "source": [
        "If a message stating that you must restart the runtime after running the above cell, click the button to restart the runtime. You don't have to re-install the Seldonian libraries, but you will have to run any other code cells again if you ran any below."
      ],
      "metadata": {
        "id": "SL7NGGVO61pX"
      }
    },
    {
      "cell_type": "markdown",
      "source": [
        "<a name=\"imports\"></a>\n",
        "### Imports\n",
        "\n"
      ],
      "metadata": {
        "id": "pvmPn6yDSSUs"
      }
    },
    {
      "cell_type": "code",
      "execution_count": 50,
      "metadata": {
        "id": "fZfkvPWOP96E"
      },
      "outputs": [],
      "source": [
        "import numpy as np\n",
        "import pandas as pd\n",
        "from torch.utils.data import DataLoader\n",
        "import torch\n",
        "import torch.nn as nn\n",
        "from torch import optim\n",
        "from torch.autograd import Variable\n",
        "\n",
        "from seldonian.spec import SupervisedSpec\n",
        "from seldonian.dataset import SupervisedDataSet\n",
        "from seldonian.models import objectives\n",
        "from seldonian.models.pytorch_model import SupervisedPytorchBaseModel\n",
        "from seldonian.seldonian_algorithm import SeldonianAlgorithm\n",
        "from seldonian.parse_tree.parse_tree import (\n",
        "\tmake_parse_trees_from_constraints)\n",
        "from seldonian.utils.io_utils import load_pickle,save_pickle\n",
        "from seldonian.utils.plot_utils import plot_gradient_descent"
      ]
    },
    {
      "cell_type": "markdown",
      "source": [
        "Make sure that the GPU is available via CUDA. The following cell should return True. If it is False, then try the step at the beginning of this notebook again to use the GPU-accelerated runtime. "
      ],
      "metadata": {
        "id": "EsYBm-quVY9V"
      }
    },
    {
      "cell_type": "code",
      "source": [
        "torch.cuda.is_available()"
      ],
      "metadata": {
        "colab": {
          "base_uri": "https://localhost:8080/"
        },
        "id": "ZN0-jGTWTdzw",
        "outputId": "28b4be4c-7f8b-4f8e-dba7-e8cb485eaa51"
      },
      "execution_count": 2,
      "outputs": [
        {
          "output_type": "execute_result",
          "data": {
            "text/plain": [
              "True"
            ]
          },
          "metadata": {},
          "execution_count": 2
        }
      ]
    },
    {
      "cell_type": "code",
      "source": [
        "# Set the device for later use\n",
        "device = torch.device(\"cuda\")"
      ],
      "metadata": {
        "id": "e7GXUFJaSVNk"
      },
      "execution_count": 3,
      "outputs": []
    },
    {
      "cell_type": "markdown",
      "source": [
        "<a name=\"dataset_prep\"></a>\n",
        "### Dataset preparation\n",
        "First download the dataset using the following code:\n"
      ],
      "metadata": {
        "id": "d_RRauiETYo1"
      }
    },
    {
      "cell_type": "code",
      "source": [
        "!wget https://github.com/seldonian-toolkit/Tutorials/raw/main/tutorial_j_materials/age_gender.zip"
      ],
      "metadata": {
        "colab": {
          "base_uri": "https://localhost:8080/"
        },
        "id": "xpGC01QzVj1q",
        "outputId": "91055428-9d2c-42d9-9a82-e200b1ae35d5"
      },
      "execution_count": 4,
      "outputs": [
        {
          "output_type": "stream",
          "name": "stdout",
          "text": [
            "--2023-01-23 18:52:42--  https://github.com/seldonian-toolkit/Tutorials/raw/main/tutorial_j_materials/age_gender.zip\n",
            "Resolving github.com (github.com)... 140.82.121.4\n",
            "Connecting to github.com (github.com)|140.82.121.4|:443... connected.\n",
            "HTTP request sent, awaiting response... 302 Found\n",
            "Location: https://raw.githubusercontent.com/seldonian-toolkit/Tutorials/main/tutorial_j_materials/age_gender.zip [following]\n",
            "--2023-01-23 18:52:43--  https://raw.githubusercontent.com/seldonian-toolkit/Tutorials/main/tutorial_j_materials/age_gender.zip\n",
            "Resolving raw.githubusercontent.com (raw.githubusercontent.com)... 185.199.108.133, 185.199.109.133, 185.199.110.133, ...\n",
            "Connecting to raw.githubusercontent.com (raw.githubusercontent.com)|185.199.108.133|:443... connected.\n",
            "HTTP request sent, awaiting response... 200 OK\n",
            "Length: 66303838 (63M) [application/zip]\n",
            "Saving to: ‘age_gender.zip’\n",
            "\n",
            "age_gender.zip      100%[===================>]  63.23M   203MB/s    in 0.3s    \n",
            "\n",
            "2023-01-23 18:52:45 (203 MB/s) - ‘age_gender.zip’ saved [66303838/66303838]\n",
            "\n"
          ]
        }
      ]
    },
    {
      "cell_type": "markdown",
      "source": [
        "Now unzip it. This will reveal the CSV file containing the dataset."
      ],
      "metadata": {
        "id": "Ze13KWg3Wc2s"
      }
    },
    {
      "cell_type": "code",
      "source": [
        "!unzip age_gender.zip"
      ],
      "metadata": {
        "colab": {
          "base_uri": "https://localhost:8080/"
        },
        "id": "CkmPr0ElULXI",
        "outputId": "e9347e32-cd93-4b11-bd71-ca780b0012b1"
      },
      "execution_count": 5,
      "outputs": [
        {
          "output_type": "stream",
          "name": "stdout",
          "text": [
            "Archive:  age_gender.zip\n",
            "  inflating: age_gender.csv          \n"
          ]
        }
      ]
    },
    {
      "cell_type": "code",
      "source": [
        "ls"
      ],
      "metadata": {
        "colab": {
          "base_uri": "https://localhost:8080/"
        },
        "id": "GT-Rpl4-WTXM",
        "outputId": "64893275-3d8c-4b23-8709-65a5dfc89bf3"
      },
      "execution_count": 6,
      "outputs": [
        {
          "output_type": "stream",
          "name": "stdout",
          "text": [
            "age_gender.csv  age_gender.zip  \u001b[0m\u001b[01;34msample_data\u001b[0m/\n"
          ]
        }
      ]
    },
    {
      "cell_type": "markdown",
      "source": [
        "Now load the dataset, shuffle it, and clip off 5 samples to make the total dataset size divisible by 150, the desired batch size. "
      ],
      "metadata": {
        "id": "hqadeODcWJKa"
      }
    },
    {
      "cell_type": "code",
      "source": [
        "torch.manual_seed(0)\n",
        "regime='supervised_learning'\n",
        "sub_regime='classification'\n",
        "\n",
        "N=23700 \n",
        "\t\n",
        "savename_features = './features.pkl'\n",
        "savename_labels = './labels.pkl'\n",
        "savename_sensitive_attrs = './sensitive_attrs.pkl'\n",
        "\t\n",
        "print(\"loading data...\")\n",
        "data = pd.read_csv('age_gender.csv')\n",
        "print(\"done\")"
      ],
      "metadata": {
        "colab": {
          "base_uri": "https://localhost:8080/"
        },
        "id": "j3FdWc_4Tba8",
        "outputId": "c549c7f0-364a-4e9f-dd05-25379583794f"
      },
      "execution_count": 7,
      "outputs": [
        {
          "output_type": "stream",
          "name": "stdout",
          "text": [
            "loading data...\n",
            "done\n"
          ]
        }
      ]
    },
    {
      "cell_type": "code",
      "source": [
        "data"
      ],
      "metadata": {
        "colab": {
          "base_uri": "https://localhost:8080/",
          "height": 424
        },
        "id": "jvq_wCmBSlgB",
        "outputId": "d7219f80-ab88-4924-de0b-291a883a2a99"
      },
      "execution_count": 8,
      "outputs": [
        {
          "output_type": "execute_result",
          "data": {
            "text/plain": [
              "       age  ethnicity  gender                        img_name  \\\n",
              "0        1          2       0  20161219203650636.jpg.chip.jpg   \n",
              "1        1          2       0  20161219222752047.jpg.chip.jpg   \n",
              "2        1          2       0  20161219222832191.jpg.chip.jpg   \n",
              "3        1          2       0  20161220144911423.jpg.chip.jpg   \n",
              "4        1          2       0  20161220144914327.jpg.chip.jpg   \n",
              "...    ...        ...     ...                             ...   \n",
              "23700   99          0       1  20170120221920654.jpg.chip.jpg   \n",
              "23701   99          1       1  20170120134639935.jpg.chip.jpg   \n",
              "23702   99          2       1  20170110182418864.jpg.chip.jpg   \n",
              "23703   99          2       1  20170117195405372.jpg.chip.jpg   \n",
              "23704   99          0       1  20170110182052119.jpg.chip.jpg   \n",
              "\n",
              "                                                  pixels  \n",
              "0      129 128 128 126 127 130 133 135 139 142 145 14...  \n",
              "1      164 74 111 168 169 171 175 182 184 188 193 199...  \n",
              "2      67 70 71 70 69 67 70 79 90 103 116 132 145 155...  \n",
              "3      193 197 198 200 199 200 202 203 204 205 208 21...  \n",
              "4      202 205 209 210 209 209 210 211 212 214 218 21...  \n",
              "...                                                  ...  \n",
              "23700  127 100 94 81 77 77 74 99 102 98 128 145 160 1...  \n",
              "23701  23 28 32 35 42 47 68 85 98 103 113 117 130 129...  \n",
              "23702  59 50 37 40 34 19 30 101 156 170 177 184 187 1...  \n",
              "23703  45 108 120 156 206 197 140 180 191 199 204 207...  \n",
              "23704  156 161 160 165 170 173 166 177 183 191 187 18...  \n",
              "\n",
              "[23705 rows x 5 columns]"
            ],
            "text/html": [
              "\n",
              "  <div id=\"df-9a4f10bd-b44c-486a-801f-b5acc9de8ec9\">\n",
              "    <div class=\"colab-df-container\">\n",
              "      <div>\n",
              "<style scoped>\n",
              "    .dataframe tbody tr th:only-of-type {\n",
              "        vertical-align: middle;\n",
              "    }\n",
              "\n",
              "    .dataframe tbody tr th {\n",
              "        vertical-align: top;\n",
              "    }\n",
              "\n",
              "    .dataframe thead th {\n",
              "        text-align: right;\n",
              "    }\n",
              "</style>\n",
              "<table border=\"1\" class=\"dataframe\">\n",
              "  <thead>\n",
              "    <tr style=\"text-align: right;\">\n",
              "      <th></th>\n",
              "      <th>age</th>\n",
              "      <th>ethnicity</th>\n",
              "      <th>gender</th>\n",
              "      <th>img_name</th>\n",
              "      <th>pixels</th>\n",
              "    </tr>\n",
              "  </thead>\n",
              "  <tbody>\n",
              "    <tr>\n",
              "      <th>0</th>\n",
              "      <td>1</td>\n",
              "      <td>2</td>\n",
              "      <td>0</td>\n",
              "      <td>20161219203650636.jpg.chip.jpg</td>\n",
              "      <td>129 128 128 126 127 130 133 135 139 142 145 14...</td>\n",
              "    </tr>\n",
              "    <tr>\n",
              "      <th>1</th>\n",
              "      <td>1</td>\n",
              "      <td>2</td>\n",
              "      <td>0</td>\n",
              "      <td>20161219222752047.jpg.chip.jpg</td>\n",
              "      <td>164 74 111 168 169 171 175 182 184 188 193 199...</td>\n",
              "    </tr>\n",
              "    <tr>\n",
              "      <th>2</th>\n",
              "      <td>1</td>\n",
              "      <td>2</td>\n",
              "      <td>0</td>\n",
              "      <td>20161219222832191.jpg.chip.jpg</td>\n",
              "      <td>67 70 71 70 69 67 70 79 90 103 116 132 145 155...</td>\n",
              "    </tr>\n",
              "    <tr>\n",
              "      <th>3</th>\n",
              "      <td>1</td>\n",
              "      <td>2</td>\n",
              "      <td>0</td>\n",
              "      <td>20161220144911423.jpg.chip.jpg</td>\n",
              "      <td>193 197 198 200 199 200 202 203 204 205 208 21...</td>\n",
              "    </tr>\n",
              "    <tr>\n",
              "      <th>4</th>\n",
              "      <td>1</td>\n",
              "      <td>2</td>\n",
              "      <td>0</td>\n",
              "      <td>20161220144914327.jpg.chip.jpg</td>\n",
              "      <td>202 205 209 210 209 209 210 211 212 214 218 21...</td>\n",
              "    </tr>\n",
              "    <tr>\n",
              "      <th>...</th>\n",
              "      <td>...</td>\n",
              "      <td>...</td>\n",
              "      <td>...</td>\n",
              "      <td>...</td>\n",
              "      <td>...</td>\n",
              "    </tr>\n",
              "    <tr>\n",
              "      <th>23700</th>\n",
              "      <td>99</td>\n",
              "      <td>0</td>\n",
              "      <td>1</td>\n",
              "      <td>20170120221920654.jpg.chip.jpg</td>\n",
              "      <td>127 100 94 81 77 77 74 99 102 98 128 145 160 1...</td>\n",
              "    </tr>\n",
              "    <tr>\n",
              "      <th>23701</th>\n",
              "      <td>99</td>\n",
              "      <td>1</td>\n",
              "      <td>1</td>\n",
              "      <td>20170120134639935.jpg.chip.jpg</td>\n",
              "      <td>23 28 32 35 42 47 68 85 98 103 113 117 130 129...</td>\n",
              "    </tr>\n",
              "    <tr>\n",
              "      <th>23702</th>\n",
              "      <td>99</td>\n",
              "      <td>2</td>\n",
              "      <td>1</td>\n",
              "      <td>20170110182418864.jpg.chip.jpg</td>\n",
              "      <td>59 50 37 40 34 19 30 101 156 170 177 184 187 1...</td>\n",
              "    </tr>\n",
              "    <tr>\n",
              "      <th>23703</th>\n",
              "      <td>99</td>\n",
              "      <td>2</td>\n",
              "      <td>1</td>\n",
              "      <td>20170117195405372.jpg.chip.jpg</td>\n",
              "      <td>45 108 120 156 206 197 140 180 191 199 204 207...</td>\n",
              "    </tr>\n",
              "    <tr>\n",
              "      <th>23704</th>\n",
              "      <td>99</td>\n",
              "      <td>0</td>\n",
              "      <td>1</td>\n",
              "      <td>20170110182052119.jpg.chip.jpg</td>\n",
              "      <td>156 161 160 165 170 173 166 177 183 191 187 18...</td>\n",
              "    </tr>\n",
              "  </tbody>\n",
              "</table>\n",
              "<p>23705 rows × 5 columns</p>\n",
              "</div>\n",
              "      <button class=\"colab-df-convert\" onclick=\"convertToInteractive('df-9a4f10bd-b44c-486a-801f-b5acc9de8ec9')\"\n",
              "              title=\"Convert this dataframe to an interactive table.\"\n",
              "              style=\"display:none;\">\n",
              "        \n",
              "  <svg xmlns=\"http://www.w3.org/2000/svg\" height=\"24px\"viewBox=\"0 0 24 24\"\n",
              "       width=\"24px\">\n",
              "    <path d=\"M0 0h24v24H0V0z\" fill=\"none\"/>\n",
              "    <path d=\"M18.56 5.44l.94 2.06.94-2.06 2.06-.94-2.06-.94-.94-2.06-.94 2.06-2.06.94zm-11 1L8.5 8.5l.94-2.06 2.06-.94-2.06-.94L8.5 2.5l-.94 2.06-2.06.94zm10 10l.94 2.06.94-2.06 2.06-.94-2.06-.94-.94-2.06-.94 2.06-2.06.94z\"/><path d=\"M17.41 7.96l-1.37-1.37c-.4-.4-.92-.59-1.43-.59-.52 0-1.04.2-1.43.59L10.3 9.45l-7.72 7.72c-.78.78-.78 2.05 0 2.83L4 21.41c.39.39.9.59 1.41.59.51 0 1.02-.2 1.41-.59l7.78-7.78 2.81-2.81c.8-.78.8-2.07 0-2.86zM5.41 20L4 18.59l7.72-7.72 1.47 1.35L5.41 20z\"/>\n",
              "  </svg>\n",
              "      </button>\n",
              "      \n",
              "  <style>\n",
              "    .colab-df-container {\n",
              "      display:flex;\n",
              "      flex-wrap:wrap;\n",
              "      gap: 12px;\n",
              "    }\n",
              "\n",
              "    .colab-df-convert {\n",
              "      background-color: #E8F0FE;\n",
              "      border: none;\n",
              "      border-radius: 50%;\n",
              "      cursor: pointer;\n",
              "      display: none;\n",
              "      fill: #1967D2;\n",
              "      height: 32px;\n",
              "      padding: 0 0 0 0;\n",
              "      width: 32px;\n",
              "    }\n",
              "\n",
              "    .colab-df-convert:hover {\n",
              "      background-color: #E2EBFA;\n",
              "      box-shadow: 0px 1px 2px rgba(60, 64, 67, 0.3), 0px 1px 3px 1px rgba(60, 64, 67, 0.15);\n",
              "      fill: #174EA6;\n",
              "    }\n",
              "\n",
              "    [theme=dark] .colab-df-convert {\n",
              "      background-color: #3B4455;\n",
              "      fill: #D2E3FC;\n",
              "    }\n",
              "\n",
              "    [theme=dark] .colab-df-convert:hover {\n",
              "      background-color: #434B5C;\n",
              "      box-shadow: 0px 1px 3px 1px rgba(0, 0, 0, 0.15);\n",
              "      filter: drop-shadow(0px 1px 2px rgba(0, 0, 0, 0.3));\n",
              "      fill: #FFFFFF;\n",
              "    }\n",
              "  </style>\n",
              "\n",
              "      <script>\n",
              "        const buttonEl =\n",
              "          document.querySelector('#df-9a4f10bd-b44c-486a-801f-b5acc9de8ec9 button.colab-df-convert');\n",
              "        buttonEl.style.display =\n",
              "          google.colab.kernel.accessAllowed ? 'block' : 'none';\n",
              "\n",
              "        async function convertToInteractive(key) {\n",
              "          const element = document.querySelector('#df-9a4f10bd-b44c-486a-801f-b5acc9de8ec9');\n",
              "          const dataTable =\n",
              "            await google.colab.kernel.invokeFunction('convertToInteractive',\n",
              "                                                     [key], {});\n",
              "          if (!dataTable) return;\n",
              "\n",
              "          const docLinkHtml = 'Like what you see? Visit the ' +\n",
              "            '<a target=\"_blank\" href=https://colab.research.google.com/notebooks/data_table.ipynb>data table notebook</a>'\n",
              "            + ' to learn more about interactive tables.';\n",
              "          element.innerHTML = '';\n",
              "          dataTable['output_type'] = 'display_data';\n",
              "          await google.colab.output.renderOutput(dataTable, element);\n",
              "          const docLink = document.createElement('div');\n",
              "          docLink.innerHTML = docLinkHtml;\n",
              "          element.appendChild(docLink);\n",
              "        }\n",
              "      </script>\n",
              "    </div>\n",
              "  </div>\n",
              "  "
            ]
          },
          "metadata": {},
          "execution_count": 8
        }
      ]
    },
    {
      "cell_type": "code",
      "source": [
        "print(\"resampling data and clipping off 5 samples..\")\n",
        "data_resamp = data.sample(n=len(data),random_state=42).iloc[:N]\n",
        "print(\"done\")"
      ],
      "metadata": {
        "colab": {
          "base_uri": "https://localhost:8080/"
        },
        "id": "TgRXXCYVjRmR",
        "outputId": "5d2e42c3-16d0-43b7-96c5-78cd51249205"
      },
      "execution_count": 9,
      "outputs": [
        {
          "output_type": "stream",
          "name": "stdout",
          "text": [
            "resampling data and clipping off 5 samples..\n",
            "done\n"
          ]
        }
      ]
    },
    {
      "cell_type": "code",
      "source": [
        "data_resamp"
      ],
      "metadata": {
        "colab": {
          "base_uri": "https://localhost:8080/",
          "height": 424
        },
        "id": "yBpQoq08jYqM",
        "outputId": "af3770d4-585a-411b-8d7a-79e0d14c64a5"
      },
      "execution_count": 10,
      "outputs": [
        {
          "output_type": "execute_result",
          "data": {
            "text/plain": [
              "       age  ethnicity  gender                        img_name  \\\n",
              "17814   49          1       1  20170113184406976.jpg.chip.jpg   \n",
              "15080   39          1       0  20170116001219696.jpg.chip.jpg   \n",
              "22829    8          4       0  20170103200427437.jpg.chip.jpg   \n",
              "16074   40          4       0  20170116213431880.jpg.chip.jpg   \n",
              "8972    27          0       0  20170119150234550.jpg.chip.jpg   \n",
              "...    ...        ...     ...                             ...   \n",
              "16850   45          3       1  20170117194826185.jpg.chip.jpg   \n",
              "6265    26          2       1  20170104020703028.jpg.chip.jpg   \n",
              "22118   72          0       1  20170110175340308.jpg.chip.jpg   \n",
              "11284   30          0       1  20170117143123552.jpg.chip.jpg   \n",
              "11964   32          1       1  20170113012612272.jpg.chip.jpg   \n",
              "\n",
              "                                                  pixels  \n",
              "17814  31 32 28 27 34 38 37 40 47 51 52 57 72 93 118 ...  \n",
              "15080  186 65 38 40 36 51 64 64 60 55 58 60 73 79 82 ...  \n",
              "22829  20 23 35 34 45 65 69 72 79 92 106 115 134 148 ...  \n",
              "16074  6 6 13 19 15 23 41 76 106 125 133 138 152 158 ...  \n",
              "8972   31 31 29 51 98 136 162 175 176 178 178 179 184...  \n",
              "...                                                  ...  \n",
              "16850  228 232 224 217 211 172 93 89 117 123 121 123 ...  \n",
              "6265   19 22 19 21 21 19 20 20 19 34 30 34 43 45 81 1...  \n",
              "22118  94 152 174 183 202 190 192 203 204 210 201 200...  \n",
              "11284  0 0 163 190 170 94 100 141 206 214 213 213 215...  \n",
              "11964  18 29 24 14 12 12 21 21 13 22 28 36 27 26 58 1...  \n",
              "\n",
              "[23700 rows x 5 columns]"
            ],
            "text/html": [
              "\n",
              "  <div id=\"df-350de697-fdae-4303-b719-b9bbc4e7d6af\">\n",
              "    <div class=\"colab-df-container\">\n",
              "      <div>\n",
              "<style scoped>\n",
              "    .dataframe tbody tr th:only-of-type {\n",
              "        vertical-align: middle;\n",
              "    }\n",
              "\n",
              "    .dataframe tbody tr th {\n",
              "        vertical-align: top;\n",
              "    }\n",
              "\n",
              "    .dataframe thead th {\n",
              "        text-align: right;\n",
              "    }\n",
              "</style>\n",
              "<table border=\"1\" class=\"dataframe\">\n",
              "  <thead>\n",
              "    <tr style=\"text-align: right;\">\n",
              "      <th></th>\n",
              "      <th>age</th>\n",
              "      <th>ethnicity</th>\n",
              "      <th>gender</th>\n",
              "      <th>img_name</th>\n",
              "      <th>pixels</th>\n",
              "    </tr>\n",
              "  </thead>\n",
              "  <tbody>\n",
              "    <tr>\n",
              "      <th>17814</th>\n",
              "      <td>49</td>\n",
              "      <td>1</td>\n",
              "      <td>1</td>\n",
              "      <td>20170113184406976.jpg.chip.jpg</td>\n",
              "      <td>31 32 28 27 34 38 37 40 47 51 52 57 72 93 118 ...</td>\n",
              "    </tr>\n",
              "    <tr>\n",
              "      <th>15080</th>\n",
              "      <td>39</td>\n",
              "      <td>1</td>\n",
              "      <td>0</td>\n",
              "      <td>20170116001219696.jpg.chip.jpg</td>\n",
              "      <td>186 65 38 40 36 51 64 64 60 55 58 60 73 79 82 ...</td>\n",
              "    </tr>\n",
              "    <tr>\n",
              "      <th>22829</th>\n",
              "      <td>8</td>\n",
              "      <td>4</td>\n",
              "      <td>0</td>\n",
              "      <td>20170103200427437.jpg.chip.jpg</td>\n",
              "      <td>20 23 35 34 45 65 69 72 79 92 106 115 134 148 ...</td>\n",
              "    </tr>\n",
              "    <tr>\n",
              "      <th>16074</th>\n",
              "      <td>40</td>\n",
              "      <td>4</td>\n",
              "      <td>0</td>\n",
              "      <td>20170116213431880.jpg.chip.jpg</td>\n",
              "      <td>6 6 13 19 15 23 41 76 106 125 133 138 152 158 ...</td>\n",
              "    </tr>\n",
              "    <tr>\n",
              "      <th>8972</th>\n",
              "      <td>27</td>\n",
              "      <td>0</td>\n",
              "      <td>0</td>\n",
              "      <td>20170119150234550.jpg.chip.jpg</td>\n",
              "      <td>31 31 29 51 98 136 162 175 176 178 178 179 184...</td>\n",
              "    </tr>\n",
              "    <tr>\n",
              "      <th>...</th>\n",
              "      <td>...</td>\n",
              "      <td>...</td>\n",
              "      <td>...</td>\n",
              "      <td>...</td>\n",
              "      <td>...</td>\n",
              "    </tr>\n",
              "    <tr>\n",
              "      <th>16850</th>\n",
              "      <td>45</td>\n",
              "      <td>3</td>\n",
              "      <td>1</td>\n",
              "      <td>20170117194826185.jpg.chip.jpg</td>\n",
              "      <td>228 232 224 217 211 172 93 89 117 123 121 123 ...</td>\n",
              "    </tr>\n",
              "    <tr>\n",
              "      <th>6265</th>\n",
              "      <td>26</td>\n",
              "      <td>2</td>\n",
              "      <td>1</td>\n",
              "      <td>20170104020703028.jpg.chip.jpg</td>\n",
              "      <td>19 22 19 21 21 19 20 20 19 34 30 34 43 45 81 1...</td>\n",
              "    </tr>\n",
              "    <tr>\n",
              "      <th>22118</th>\n",
              "      <td>72</td>\n",
              "      <td>0</td>\n",
              "      <td>1</td>\n",
              "      <td>20170110175340308.jpg.chip.jpg</td>\n",
              "      <td>94 152 174 183 202 190 192 203 204 210 201 200...</td>\n",
              "    </tr>\n",
              "    <tr>\n",
              "      <th>11284</th>\n",
              "      <td>30</td>\n",
              "      <td>0</td>\n",
              "      <td>1</td>\n",
              "      <td>20170117143123552.jpg.chip.jpg</td>\n",
              "      <td>0 0 163 190 170 94 100 141 206 214 213 213 215...</td>\n",
              "    </tr>\n",
              "    <tr>\n",
              "      <th>11964</th>\n",
              "      <td>32</td>\n",
              "      <td>1</td>\n",
              "      <td>1</td>\n",
              "      <td>20170113012612272.jpg.chip.jpg</td>\n",
              "      <td>18 29 24 14 12 12 21 21 13 22 28 36 27 26 58 1...</td>\n",
              "    </tr>\n",
              "  </tbody>\n",
              "</table>\n",
              "<p>23700 rows × 5 columns</p>\n",
              "</div>\n",
              "      <button class=\"colab-df-convert\" onclick=\"convertToInteractive('df-350de697-fdae-4303-b719-b9bbc4e7d6af')\"\n",
              "              title=\"Convert this dataframe to an interactive table.\"\n",
              "              style=\"display:none;\">\n",
              "        \n",
              "  <svg xmlns=\"http://www.w3.org/2000/svg\" height=\"24px\"viewBox=\"0 0 24 24\"\n",
              "       width=\"24px\">\n",
              "    <path d=\"M0 0h24v24H0V0z\" fill=\"none\"/>\n",
              "    <path d=\"M18.56 5.44l.94 2.06.94-2.06 2.06-.94-2.06-.94-.94-2.06-.94 2.06-2.06.94zm-11 1L8.5 8.5l.94-2.06 2.06-.94-2.06-.94L8.5 2.5l-.94 2.06-2.06.94zm10 10l.94 2.06.94-2.06 2.06-.94-2.06-.94-.94-2.06-.94 2.06-2.06.94z\"/><path d=\"M17.41 7.96l-1.37-1.37c-.4-.4-.92-.59-1.43-.59-.52 0-1.04.2-1.43.59L10.3 9.45l-7.72 7.72c-.78.78-.78 2.05 0 2.83L4 21.41c.39.39.9.59 1.41.59.51 0 1.02-.2 1.41-.59l7.78-7.78 2.81-2.81c.8-.78.8-2.07 0-2.86zM5.41 20L4 18.59l7.72-7.72 1.47 1.35L5.41 20z\"/>\n",
              "  </svg>\n",
              "      </button>\n",
              "      \n",
              "  <style>\n",
              "    .colab-df-container {\n",
              "      display:flex;\n",
              "      flex-wrap:wrap;\n",
              "      gap: 12px;\n",
              "    }\n",
              "\n",
              "    .colab-df-convert {\n",
              "      background-color: #E8F0FE;\n",
              "      border: none;\n",
              "      border-radius: 50%;\n",
              "      cursor: pointer;\n",
              "      display: none;\n",
              "      fill: #1967D2;\n",
              "      height: 32px;\n",
              "      padding: 0 0 0 0;\n",
              "      width: 32px;\n",
              "    }\n",
              "\n",
              "    .colab-df-convert:hover {\n",
              "      background-color: #E2EBFA;\n",
              "      box-shadow: 0px 1px 2px rgba(60, 64, 67, 0.3), 0px 1px 3px 1px rgba(60, 64, 67, 0.15);\n",
              "      fill: #174EA6;\n",
              "    }\n",
              "\n",
              "    [theme=dark] .colab-df-convert {\n",
              "      background-color: #3B4455;\n",
              "      fill: #D2E3FC;\n",
              "    }\n",
              "\n",
              "    [theme=dark] .colab-df-convert:hover {\n",
              "      background-color: #434B5C;\n",
              "      box-shadow: 0px 1px 3px 1px rgba(0, 0, 0, 0.15);\n",
              "      filter: drop-shadow(0px 1px 2px rgba(0, 0, 0, 0.3));\n",
              "      fill: #FFFFFF;\n",
              "    }\n",
              "  </style>\n",
              "\n",
              "      <script>\n",
              "        const buttonEl =\n",
              "          document.querySelector('#df-350de697-fdae-4303-b719-b9bbc4e7d6af button.colab-df-convert');\n",
              "        buttonEl.style.display =\n",
              "          google.colab.kernel.accessAllowed ? 'block' : 'none';\n",
              "\n",
              "        async function convertToInteractive(key) {\n",
              "          const element = document.querySelector('#df-350de697-fdae-4303-b719-b9bbc4e7d6af');\n",
              "          const dataTable =\n",
              "            await google.colab.kernel.invokeFunction('convertToInteractive',\n",
              "                                                     [key], {});\n",
              "          if (!dataTable) return;\n",
              "\n",
              "          const docLinkHtml = 'Like what you see? Visit the ' +\n",
              "            '<a target=\"_blank\" href=https://colab.research.google.com/notebooks/data_table.ipynb>data table notebook</a>'\n",
              "            + ' to learn more about interactive tables.';\n",
              "          element.innerHTML = '';\n",
              "          dataTable['output_type'] = 'display_data';\n",
              "          await google.colab.output.renderOutput(dataTable, element);\n",
              "          const docLink = document.createElement('div');\n",
              "          docLink.innerHTML = docLinkHtml;\n",
              "          element.appendChild(docLink);\n",
              "        }\n",
              "      </script>\n",
              "    </div>\n",
              "  </div>\n",
              "  "
            ]
          },
          "metadata": {},
          "execution_count": 10
        }
      ]
    },
    {
      "cell_type": "markdown",
      "source": [
        "Convert pixels from string to numpy array"
      ],
      "metadata": {
        "id": "6zr3CkN3WY6W"
      }
    },
    {
      "cell_type": "code",
      "source": [
        "print(\"Converting pixels to array...\")\n",
        "data_resamp['pixels']=data_resamp['pixels'].apply(lambda x:  np.array(x.split(), dtype=\"float32\"))\n",
        "print(\"done\")"
      ],
      "metadata": {
        "colab": {
          "base_uri": "https://localhost:8080/"
        },
        "id": "C-IeoI-lWiiJ",
        "outputId": "60729f22-29f6-493b-cf04-c98b580c8478"
      },
      "execution_count": 11,
      "outputs": [
        {
          "output_type": "stream",
          "name": "stdout",
          "text": [
            "Converting pixels to array...\n",
            "done\n"
          ]
        }
      ]
    },
    {
      "cell_type": "markdown",
      "source": [
        "normalize pixel values to be between 0 and 1\n"
      ],
      "metadata": {
        "id": "9-7as-ishqXA"
      }
    },
    {
      "cell_type": "code",
      "source": [
        "print(\"Normalizing and reshaping pixel data...\")\n",
        "data_resamp['pixels'] = data_resamp['pixels'].apply(lambda x: x/255)\n",
        "print(\"done\")"
      ],
      "metadata": {
        "colab": {
          "base_uri": "https://localhost:8080/"
        },
        "id": "23LJlUJ9Wjyb",
        "outputId": "0a0da4d3-2392-48da-e597-e08bdd63898c"
      },
      "execution_count": 12,
      "outputs": [
        {
          "output_type": "stream",
          "name": "stdout",
          "text": [
            "Normalizing and reshaping pixel data...\n",
            "done\n"
          ]
        }
      ]
    },
    {
      "cell_type": "markdown",
      "source": [
        "Reshape pixels array\n"
      ],
      "metadata": {
        "id": "8SHx_2tPhu0w"
      }
    },
    {
      "cell_type": "code",
      "source": [
        "X = np.array(data_resamp['pixels'].tolist())"
      ],
      "metadata": {
        "id": "FKHDWtVyXJtA"
      },
      "execution_count": 13,
      "outputs": []
    },
    {
      "cell_type": "code",
      "source": [
        "X.shape"
      ],
      "metadata": {
        "colab": {
          "base_uri": "https://localhost:8080/"
        },
        "id": "dqWwaVGSjlao",
        "outputId": "c45cb362-3579-49a1-b79b-c02489732e3f"
      },
      "execution_count": 14,
      "outputs": [
        {
          "output_type": "execute_result",
          "data": {
            "text/plain": [
              "(23700, 2304)"
            ]
          },
          "metadata": {},
          "execution_count": 14
        }
      ]
    },
    {
      "cell_type": "markdown",
      "source": [
        "Make features and labels"
      ],
      "metadata": {
        "id": "CoT0YvErhXo_"
      }
    },
    {
      "cell_type": "code",
      "source": [
        "features = X.reshape(X.shape[0],1,48,48) # the shape expected in the model"
      ],
      "metadata": {
        "id": "u8wjIMaph4E9"
      },
      "execution_count": 15,
      "outputs": []
    },
    {
      "cell_type": "code",
      "source": [
        "features.shape"
      ],
      "metadata": {
        "colab": {
          "base_uri": "https://localhost:8080/"
        },
        "id": "lqO_nD_ch4pF",
        "outputId": "96d0355e-df1a-41ce-cab1-babcdbf3aa7f"
      },
      "execution_count": 16,
      "outputs": [
        {
          "output_type": "execute_result",
          "data": {
            "text/plain": [
              "(23700, 1, 48, 48)"
            ]
          },
          "metadata": {},
          "execution_count": 16
        }
      ]
    },
    {
      "cell_type": "code",
      "source": [
        "labels = data_resamp['gender'].values"
      ],
      "metadata": {
        "id": "M0ve7YVxh6SH"
      },
      "execution_count": 17,
      "outputs": []
    },
    {
      "cell_type": "code",
      "source": [
        "labels.shape"
      ],
      "metadata": {
        "colab": {
          "base_uri": "https://localhost:8080/"
        },
        "id": "JPKpiLZhjwu5",
        "outputId": "686fba58-cfe5-49a7-b06a-ac0245f8ec9f"
      },
      "execution_count": 18,
      "outputs": [
        {
          "output_type": "execute_result",
          "data": {
            "text/plain": [
              "(23700,)"
            ]
          },
          "metadata": {},
          "execution_count": 18
        }
      ]
    },
    {
      "cell_type": "code",
      "source": [
        "save_pickle(savename_features,features)\n",
        "save_pickle(savename_labels,labels)"
      ],
      "metadata": {
        "id": "YCGweuimkAIH"
      },
      "execution_count": 19,
      "outputs": []
    },
    {
      "cell_type": "code",
      "source": [
        "ls"
      ],
      "metadata": {
        "colab": {
          "base_uri": "https://localhost:8080/"
        },
        "id": "8UZW4UTKkaHa",
        "outputId": "2de451f2-fec6-49f8-ad8b-b3f485c0d50b"
      },
      "execution_count": 20,
      "outputs": [
        {
          "output_type": "stream",
          "name": "stdout",
          "text": [
            "age_gender.csv  age_gender.zip  features.pkl  labels.pkl  \u001b[0m\u001b[01;34msample_data\u001b[0m/\n"
          ]
        }
      ]
    },
    {
      "cell_type": "code",
      "source": [
        "assert len(features) == N\n",
        "assert len(labels) == N"
      ],
      "metadata": {
        "id": "VsLmpGYHkbTp"
      },
      "execution_count": 21,
      "outputs": []
    },
    {
      "cell_type": "markdown",
      "source": [
        "## Step 1. Split data into two datasets. \n",
        "We'll call these the candidate (\"cand\") and safety, and use a 50/50 split. The data are already shuffled, so we'll split right down the middle. The first half will be candidate data and the second will be safety. "
      ],
      "metadata": {
        "id": "CJD4WpaGlsfV"
      }
    },
    {
      "cell_type": "code",
      "source": [
        "features_cand = features[:11850]\n",
        "features_safety = features[11850:]\n",
        "labels_cand = labels[:11850]\n",
        "labels_safety = labels[11850:]"
      ],
      "metadata": {
        "id": "Vc39EIeIl0wt"
      },
      "execution_count": 22,
      "outputs": []
    },
    {
      "cell_type": "code",
      "source": [
        "#Convert to tensors for training with Pytorch\n",
        "features_cand_tensor = torch.from_numpy(features_cand)\n",
        "features_safety_tensor = torch.from_numpy(features_safety)\n",
        "labels_cand_tensor = torch.from_numpy(labels_cand)\n",
        "labels_safety_tensor = torch.from_numpy(labels_safety)"
      ],
      "metadata": {
        "id": "ssZStxfFl6vr"
      },
      "execution_count": 23,
      "outputs": []
    },
    {
      "cell_type": "code",
      "source": [
        "# Make torch data loaders\n",
        "batch_size = 100\n",
        "candidate_dataset=torch.utils.data.TensorDataset(\n",
        "    features_cand_tensor,labels_cand_tensor) \n",
        "candidate_dataloader=torch.utils.data.DataLoader(\n",
        "    candidate_dataset,batch_size=batch_size,shuffle=False) \n",
        "safety_dataset=torch.utils.data.TensorDataset(\n",
        "    features_safety_tensor,labels_safety_tensor) \n",
        "safety_dataloader=torch.utils.data.DataLoader(\n",
        "    candidate_dataset,batch_size=batch_size,shuffle=False) \n",
        "loaders = {\n",
        "    'candidate' : candidate_dataloader,\n",
        "    'safety'  : safety_dataloader\n",
        "}\n",
        "loaders"
      ],
      "metadata": {
        "colab": {
          "base_uri": "https://localhost:8080/"
        },
        "id": "UqzzYh0Al6p1",
        "outputId": "0dc552c9-36d0-4c31-c800-af270876cb0f"
      },
      "execution_count": 24,
      "outputs": [
        {
          "output_type": "execute_result",
          "data": {
            "text/plain": [
              "{'candidate': <torch.utils.data.dataloader.DataLoader at 0x7f9a0f49fe80>,\n",
              " 'safety': <torch.utils.data.dataloader.DataLoader at 0x7f9aa0f967c0>}"
            ]
          },
          "metadata": {},
          "execution_count": 24
        }
      ]
    },
    {
      "cell_type": "markdown",
      "source": [
        "## Step 2. Train the full network on the candidate data only\n",
        "Let's define the full network below."
      ],
      "metadata": {
        "id": "IkhChqUGl6j8"
      }
    },
    {
      "cell_type": "code",
      "source": [
        "class CNNModel(nn.Module):\n",
        "    def __init__(self):\n",
        "        super(CNNModel, self).__init__()\n",
        "\n",
        "        self.cnn1 = nn.Conv2d(in_channels=1, out_channels=16, kernel_size=3, padding=1)\n",
        "        self.relu = nn.ReLU()\n",
        "\n",
        "        # Max pool 1\n",
        "        self.maxpool = nn.MaxPool2d(kernel_size=2)\n",
        "        \n",
        "        self.Batch1=nn.BatchNorm2d(16)\n",
        "        self.Batch2=nn.BatchNorm2d(32)\n",
        "        self.Batch3=nn.BatchNorm2d(64)\n",
        "        self.Batch4=nn.BatchNorm2d(128)\n",
        "        \n",
        "        self.Drop1=nn.Dropout(0.2)\n",
        "        self.Drop2=nn.Dropout(0.5)\n",
        "\n",
        "\n",
        "        self.cnn2 = nn.Conv2d(in_channels=16, out_channels=32, kernel_size=3)\n",
        "        self.cnn3 = nn.Conv2d(in_channels=32, out_channels=64, kernel_size=3)\n",
        "        self.cnn4 = nn.Conv2d(in_channels=64, out_channels=128, kernel_size=3)\n",
        "        \n",
        "        # Fully connected 1 (readout)\n",
        "        self.fc1 = nn.Linear(128 * 1 * 1, 128) \n",
        "        self.fc2=nn.Linear(128,256)\n",
        "        self.fc3=nn.Linear(256,2)\n",
        "\n",
        "    def forward(self, x):\n",
        " \n",
        "        out = self.cnn1(x) \n",
        "        out = self.relu(out)\n",
        "        out = self.maxpool(out)\n",
        "        out=self.Batch1(out)\n",
        "        out=self.Drop1(out)\n",
        " \n",
        "        out = self.cnn2(out)\n",
        "        out = self.relu(out)\n",
        "        out = self.maxpool(out)\n",
        "        out=self.Batch2(out)\n",
        "        out=self.Drop1(out)\n",
        "        \n",
        "        out = self.cnn3(out)\n",
        "        out = self.relu(out)\n",
        "        out = self.maxpool(out)\n",
        "        out=self.Batch3(out)\n",
        "        out=self.Drop1(out)\n",
        "        \n",
        "        out = self.cnn4(out)\n",
        "        out = self.relu(out)\n",
        "        out = self.maxpool(out)\n",
        "        out=self.Batch4(out)\n",
        "        out=self.Drop1(out)\n",
        "        \n",
        "        # Resize\n",
        "        # Original size: (100, 32, 7, 7)\n",
        "        # out.size(0): 100\n",
        "        # New out size: (100, 32*7*7)\n",
        "        out = out.view(out.size(0), -1)\n",
        "\n",
        "        # Linear function (readout)\n",
        "        out = self.fc1(out)\n",
        "        \n",
        "        out=self.Drop2(out)\n",
        "        \n",
        "        out=self.fc2(out)\n",
        "        \n",
        "        out=self.Drop2(out)\n",
        "        \n",
        "        out=self.fc3(out)\n",
        "\n",
        "        return out"
      ],
      "metadata": {
        "id": "zmoSNlq0k_2u"
      },
      "execution_count": 25,
      "outputs": []
    },
    {
      "cell_type": "code",
      "source": [
        "cnn = CNNModel()\n",
        "cnn.to(device) # puts it on the GPU\n",
        "cnn"
      ],
      "metadata": {
        "colab": {
          "base_uri": "https://localhost:8080/"
        },
        "id": "ShoXgB-1k_op",
        "outputId": "9b733851-d0d4-4557-bea8-73780fa42ee7"
      },
      "execution_count": 26,
      "outputs": [
        {
          "output_type": "execute_result",
          "data": {
            "text/plain": [
              "CNNModel(\n",
              "  (cnn1): Conv2d(1, 16, kernel_size=(3, 3), stride=(1, 1), padding=(1, 1))\n",
              "  (relu): ReLU()\n",
              "  (maxpool): MaxPool2d(kernel_size=2, stride=2, padding=0, dilation=1, ceil_mode=False)\n",
              "  (Batch1): BatchNorm2d(16, eps=1e-05, momentum=0.1, affine=True, track_running_stats=True)\n",
              "  (Batch2): BatchNorm2d(32, eps=1e-05, momentum=0.1, affine=True, track_running_stats=True)\n",
              "  (Batch3): BatchNorm2d(64, eps=1e-05, momentum=0.1, affine=True, track_running_stats=True)\n",
              "  (Batch4): BatchNorm2d(128, eps=1e-05, momentum=0.1, affine=True, track_running_stats=True)\n",
              "  (Drop1): Dropout(p=0.2, inplace=False)\n",
              "  (Drop2): Dropout(p=0.5, inplace=False)\n",
              "  (cnn2): Conv2d(16, 32, kernel_size=(3, 3), stride=(1, 1))\n",
              "  (cnn3): Conv2d(32, 64, kernel_size=(3, 3), stride=(1, 1))\n",
              "  (cnn4): Conv2d(64, 128, kernel_size=(3, 3), stride=(1, 1))\n",
              "  (fc1): Linear(in_features=128, out_features=128, bias=True)\n",
              "  (fc2): Linear(in_features=128, out_features=256, bias=True)\n",
              "  (fc3): Linear(in_features=256, out_features=2, bias=True)\n",
              ")"
            ]
          },
          "metadata": {},
          "execution_count": 26
        }
      ]
    },
    {
      "cell_type": "code",
      "source": [
        "learning_rate=0.001\n",
        "\n",
        "# Loss and optimizer\n",
        "loss_func = nn.CrossEntropyLoss()\n",
        "optimizer = torch.optim.Adam(cnn.parameters(), lr=learning_rate)"
      ],
      "metadata": {
        "id": "aZ2tiDSolP7_"
      },
      "execution_count": 27,
      "outputs": []
    },
    {
      "cell_type": "code",
      "source": [
        "# Check state dict before training so we can compare to after training\n",
        "sd_before_training = cnn.state_dict()\n",
        "sd_before_training.keys()"
      ],
      "metadata": {
        "colab": {
          "base_uri": "https://localhost:8080/"
        },
        "id": "IdU9tUkuk_YS",
        "outputId": "58b4ca12-5fc6-4c70-d5fa-b07ecebd0700"
      },
      "execution_count": 28,
      "outputs": [
        {
          "output_type": "execute_result",
          "data": {
            "text/plain": [
              "odict_keys(['cnn1.weight', 'cnn1.bias', 'Batch1.weight', 'Batch1.bias', 'Batch1.running_mean', 'Batch1.running_var', 'Batch1.num_batches_tracked', 'Batch2.weight', 'Batch2.bias', 'Batch2.running_mean', 'Batch2.running_var', 'Batch2.num_batches_tracked', 'Batch3.weight', 'Batch3.bias', 'Batch3.running_mean', 'Batch3.running_var', 'Batch3.num_batches_tracked', 'Batch4.weight', 'Batch4.bias', 'Batch4.running_mean', 'Batch4.running_var', 'Batch4.num_batches_tracked', 'cnn2.weight', 'cnn2.bias', 'cnn3.weight', 'cnn3.bias', 'cnn4.weight', 'cnn4.bias', 'fc1.weight', 'fc1.bias', 'fc2.weight', 'fc2.bias', 'fc3.weight', 'fc3.bias'])"
            ]
          },
          "metadata": {},
          "execution_count": 28
        }
      ]
    },
    {
      "cell_type": "code",
      "source": [
        "print(sd_before_training['cnn1.weight'][0])\n",
        "print(sd_before_training['fc3.bias'][-1])"
      ],
      "metadata": {
        "colab": {
          "base_uri": "https://localhost:8080/"
        },
        "id": "k10NTGkIlYQF",
        "outputId": "06f99c7e-3f28-4760-ee78-1ea28372a0bc"
      },
      "execution_count": 29,
      "outputs": [
        {
          "output_type": "stream",
          "name": "stdout",
          "text": [
            "tensor([[[-0.0025,  0.1788, -0.2743],\n",
            "         [-0.2453, -0.1284,  0.0894],\n",
            "         [-0.0066,  0.2643, -0.0296]]], device='cuda:0')\n",
            "tensor(0.0398, device='cuda:0')\n"
          ]
        }
      ]
    },
    {
      "cell_type": "code",
      "source": [
        "def train(num_epochs, cnn, loaders):\n",
        "    \n",
        "    cnn.train()\n",
        "        \n",
        "    # Train the model\n",
        "    total_step = len(loaders['candidate'])\n",
        "        \n",
        "    for epoch in range(num_epochs):\n",
        "        for i, (images, labels) in enumerate(loaders['candidate']):\n",
        "\n",
        "            images = images.to(device)\n",
        "            labels = labels.to(device)\n",
        "            b_x = Variable(images)   # batch x\n",
        "            output = cnn(b_x)\n",
        "            b_y = Variable(labels)   # batch y\n",
        "            loss = loss_func(output, b_y)\n",
        "            \n",
        "            # clear gradients for this training step   \n",
        "            optimizer.zero_grad()           \n",
        "            \n",
        "            # backpropagation, compute gradients \n",
        "            loss.backward()    \n",
        "            # apply gradients             \n",
        "            optimizer.step()                \n",
        "            \n",
        "            if (i+1) % 100 == 0:\n",
        "                print ('Epoch [{}/{}], Step [{}/{}], Loss: {:.4f}' \n",
        "                       .format(epoch + 1, num_epochs, i + 1, total_step, loss.item()))\n"
      ],
      "metadata": {
        "id": "8fSoM5IJlYDb"
      },
      "execution_count": 30,
      "outputs": []
    },
    {
      "cell_type": "code",
      "source": [
        "%%time\n",
        "num_epochs = 5\n",
        "train(num_epochs, cnn, loaders)"
      ],
      "metadata": {
        "colab": {
          "base_uri": "https://localhost:8080/"
        },
        "id": "x2_yTStdlX8y",
        "outputId": "b7ffe26f-78c3-4a02-bc9a-6ffc42f9344a"
      },
      "execution_count": 31,
      "outputs": [
        {
          "output_type": "stream",
          "name": "stdout",
          "text": [
            "Epoch [1/5], Step [100/119], Loss: 0.4435\n",
            "Epoch [2/5], Step [100/119], Loss: 0.4368\n",
            "Epoch [3/5], Step [100/119], Loss: 0.3528\n",
            "Epoch [4/5], Step [100/119], Loss: 0.4300\n",
            "Epoch [5/5], Step [100/119], Loss: 0.3415\n",
            "CPU times: user 5.2 s, sys: 821 ms, total: 6.02 s\n",
            "Wall time: 11.1 s\n"
          ]
        }
      ]
    },
    {
      "cell_type": "code",
      "source": [
        "# Evaluate the model on the safety dataset\n",
        "def test():\n",
        "    cnn.eval()\n",
        "    test_loss = 0\n",
        "    correct = 0\n",
        "    test_loader = loaders['safety']\n",
        "    with torch.no_grad():\n",
        "        for images, target in test_loader:\n",
        "            images = images.to(device)\n",
        "            target = target.to(device)\n",
        "            output = cnn(images)\n",
        "            pred = output.data.max(1, keepdim=True)[1]\n",
        "            correct += pred.eq(target.data.view_as(pred)).sum()\n",
        "    print('\\nTest set: Accuracy: {}/{} ({:.0f}%)\\n'.format(\n",
        "    correct, len(test_loader.dataset),\n",
        "    100. * correct / len(test_loader.dataset)))\n",
        "test()"
      ],
      "metadata": {
        "colab": {
          "base_uri": "https://localhost:8080/"
        },
        "id": "1JNi2_4NlX1X",
        "outputId": "329c9e6d-45b0-45bf-a5f7-6914ed81444f"
      },
      "execution_count": 32,
      "outputs": [
        {
          "output_type": "stream",
          "name": "stdout",
          "text": [
            "\n",
            "Test set: Accuracy: 10632/11850 (90%)\n",
            "\n"
          ]
        }
      ]
    },
    {
      "cell_type": "code",
      "source": [
        "# Save state dict after training and verify parameters were changed\n",
        "sd_after_training = cnn.state_dict()\n",
        "print(sd_after_training['cnn1.weight'][0])\n",
        "print(sd_after_training['fc3.bias'][-1])"
      ],
      "metadata": {
        "colab": {
          "base_uri": "https://localhost:8080/"
        },
        "id": "eMKeJ9oflXtl",
        "outputId": "bcffe72f-e4f6-48be-b5ba-6f80aac7ef7a"
      },
      "execution_count": 33,
      "outputs": [
        {
          "output_type": "stream",
          "name": "stdout",
          "text": [
            "tensor([[[-0.0066,  0.1719, -0.2821],\n",
            "         [-0.2502, -0.1469,  0.0553],\n",
            "         [-0.0115,  0.2560, -0.0389]]], device='cuda:0')\n",
            "tensor(0.0019, device='cuda:0')\n"
          ]
        }
      ]
    },
    {
      "cell_type": "markdown",
      "source": [
        "If we compare these numbers to what we saw before training, we can see that they have changed."
      ],
      "metadata": {
        "id": "oMViTGJFlXmN"
      }
    },
    {
      "cell_type": "markdown",
      "source": [
        "## Step 3. Separate out the \"body\" and the \"head\" of the full network into two separate models"
      ],
      "metadata": {
        "id": "z5NuCKyMlXef"
      }
    },
    {
      "cell_type": "code",
      "source": [
        "# Defines the body-only a.k.a \"headless\" model\n",
        "class CNNHeadlessModel(nn.Module):\n",
        "    def __init__(self):\n",
        "        super(CNNHeadlessModel, self).__init__()\n",
        "\n",
        "        self.cnn1 = nn.Conv2d(in_channels=1, out_channels=16, kernel_size=3, padding=1)\n",
        "        self.relu = nn.ReLU()\n",
        "\n",
        "        # Max pool 1\n",
        "        self.maxpool = nn.MaxPool2d(kernel_size=2)\n",
        "        \n",
        "        self.Batch1=nn.BatchNorm2d(16)\n",
        "        self.Batch2=nn.BatchNorm2d(32)\n",
        "        self.Batch3=nn.BatchNorm2d(64)\n",
        "        self.Batch4=nn.BatchNorm2d(128)\n",
        "        \n",
        "        self.Drop1=nn.Dropout(0.2)\n",
        "        self.Drop2=nn.Dropout(0.5)\n",
        "\n",
        "\n",
        "        self.cnn2 = nn.Conv2d(in_channels=16, out_channels=32, kernel_size=3)\n",
        "        self.cnn3 = nn.Conv2d(in_channels=32, out_channels=64, kernel_size=3)\n",
        "        self.cnn4 = nn.Conv2d(in_channels=64, out_channels=128, kernel_size=3)\n",
        "\n",
        "        # Fully connected layers\n",
        "        self.fc1 = nn.Linear(128 * 1 * 1, 128) \n",
        "        self.fc2=nn.Linear(128,256)\n",
        "\n",
        "    def forward(self, x):\n",
        " \n",
        "        out = self.cnn1(x) \n",
        "        out = self.relu(out)\n",
        "        out = self.maxpool(out)\n",
        "        out=self.Batch1(out)\n",
        "        out=self.Drop1(out)\n",
        " \n",
        "        out = self.cnn2(out)\n",
        "        out = self.relu(out)\n",
        "        out = self.maxpool(out)\n",
        "        out=self.Batch2(out)\n",
        "        out=self.Drop1(out)\n",
        "        \n",
        "        out = self.cnn3(out)\n",
        "        out = self.relu(out)\n",
        "        out = self.maxpool(out)\n",
        "        out=self.Batch3(out)\n",
        "        out=self.Drop1(out)\n",
        "        \n",
        "        out = self.cnn4(out)\n",
        "        out = self.relu(out)\n",
        "        out = self.maxpool(out)\n",
        "        out=self.Batch4(out)\n",
        "        out=self.Drop1(out)\n",
        "        \n",
        "\n",
        "        # Resize\n",
        "        # Original size: (100, 32, 7, 7)\n",
        "        # out.size(0): 100\n",
        "        # New out size: (100, 32*7*7)\n",
        "        out = out.view(out.size(0), -1)\n",
        "\n",
        "        # Linear function (readout)\n",
        "        out = self.fc1(out)\n",
        "        \n",
        "        out=self.Drop2(out)\n",
        "        \n",
        "        out=self.fc2(out)\n",
        "        \n",
        "        out=self.Drop2(out)\n",
        "\n",
        "        # Notice that we exclude the final fully connected layer \n",
        "        # and the softmax from the \"full network\"\n",
        "\n",
        "        return out"
      ],
      "metadata": {
        "id": "ifflgNdUlXNl"
      },
      "execution_count": 34,
      "outputs": []
    },
    {
      "cell_type": "code",
      "source": [
        "cnn_headless = CNNHeadlessModel().to(device)"
      ],
      "metadata": {
        "id": "wxZxZ7uIlVFI"
      },
      "execution_count": 35,
      "outputs": []
    },
    {
      "cell_type": "markdown",
      "source": [
        "## Step 4. Assign the weights from the trained full network to the new body-only model\n",
        "This ensures that the body-only model is \"trained.\" \n",
        "\n",
        "Remove the weights and bias from the last layer of the state dictionary from the trained full model so that we can copy the state dict from the trained model to the new headless model."
      ],
      "metadata": {
        "id": "PlHX-QdgoftV"
      }
    },
    {
      "cell_type": "code",
      "source": [
        "del sd_after_training['fc3.weight']\n",
        "del sd_after_training['fc3.bias']"
      ],
      "metadata": {
        "id": "uibNvew_oNwg"
      },
      "execution_count": 36,
      "outputs": []
    },
    {
      "cell_type": "code",
      "source": [
        "cnn_headless.load_state_dict(sd_after_training)"
      ],
      "metadata": {
        "colab": {
          "base_uri": "https://localhost:8080/"
        },
        "id": "ATUusUDdoNsm",
        "outputId": "ae09334b-e62b-40a7-8cdf-cffa3d221959"
      },
      "execution_count": 37,
      "outputs": [
        {
          "output_type": "execute_result",
          "data": {
            "text/plain": [
              "<All keys matched successfully>"
            ]
          },
          "metadata": {},
          "execution_count": 37
        }
      ]
    },
    {
      "cell_type": "code",
      "source": [
        "# Verify that the weights were copied over to the headless model\n",
        "sd_headless = cnn_headless.state_dict()\n",
        "print(sd_headless['cnn1.weight'][0])"
      ],
      "metadata": {
        "colab": {
          "base_uri": "https://localhost:8080/"
        },
        "id": "1eli-GiEoNoq",
        "outputId": "f6421cd2-2111-4705-82d2-b7c59c1168f7"
      },
      "execution_count": 38,
      "outputs": [
        {
          "output_type": "stream",
          "name": "stdout",
          "text": [
            "tensor([[[-0.0066,  0.1719, -0.2821],\n",
            "         [-0.2502, -0.1469,  0.0553],\n",
            "         [-0.0115,  0.2560, -0.0389]]], device='cuda:0')\n"
          ]
        }
      ]
    },
    {
      "cell_type": "markdown",
      "source": [
        "Yes, these are the same as the model params after training on the full model. "
      ],
      "metadata": {
        "id": "eTGSpJnFoNYg"
      }
    },
    {
      "cell_type": "markdown",
      "source": [
        "## Step 5. Pass all of the data (both datasets from step 1) through the trained \"body-only\" model\n",
        "Save the outputs of passing the data through the model. These are your new \"latent features\" that you will use as input to the Seldonian Toolkit.\n",
        "\n",
        "First, notice that the output of the last layer of the headless model has size: 256. Therefore, we will have 256 features for each image.\n",
        "\n",
        "Pass candidate data in first, followed by safety data. When we use these features/labels in the Seldonian Toolkit, the candidate data are taken first during the candidate/safety split. \n",
        "\n",
        "This code also fills the labels we will save.  "
      ],
      "metadata": {
        "id": "wivkrCoWoZ9M"
      }
    },
    {
      "cell_type": "code",
      "source": [
        "new_features = np.zeros((23700,256))\n",
        "new_labels = np.zeros(23700)\n",
        "batch_size=100\n",
        "for i,(images, labels) in enumerate(loaders['candidate']):\n",
        "    images = images.to(device)\n",
        "    start_index = i*batch_size\n",
        "    end_index = start_index + len(images)\n",
        "    new_labels[start_index:end_index] = labels.numpy()\n",
        "    new_features[start_index:end_index] = cnn_headless(images).cpu().detach().numpy()\n",
        "for j,(images, labels) in enumerate(loaders['safety']):\n",
        "    images = images.to(device)\n",
        "    start_index = end_index\n",
        "    end_index = start_index + len(images)\n",
        "    new_labels[start_index:end_index] = labels.numpy()\n",
        "    new_features[start_index:end_index] = cnn_headless(images).cpu().detach().numpy()"
      ],
      "metadata": {
        "id": "sdpVcA5aoZ4b"
      },
      "execution_count": 39,
      "outputs": []
    },
    {
      "cell_type": "markdown",
      "source": [
        "Make sure there are some non-zero values in new_features. "
      ],
      "metadata": {
        "id": "ob1WXgJaoZzs"
      }
    },
    {
      "cell_type": "code",
      "source": [
        "new_features[5824]"
      ],
      "metadata": {
        "colab": {
          "base_uri": "https://localhost:8080/"
        },
        "id": "oP4okh58oZu7",
        "outputId": "cda21542-88e0-4ea5-afaa-9a44b2405847"
      },
      "execution_count": 40,
      "outputs": [
        {
          "output_type": "execute_result",
          "data": {
            "text/plain": [
              "array([-0.        ,  0.        , -0.19935021, -0.        ,  0.        ,\n",
              "        0.        , -0.65571266,  0.        , -0.        ,  0.        ,\n",
              "        0.        , -0.        ,  0.50194943, -0.70687699, -0.        ,\n",
              "        0.85655886,  0.        , -0.        , -0.27165544,  0.90167743,\n",
              "        0.        , -0.28061   , -0.31228301, -0.14461634, -0.        ,\n",
              "        0.29223937, -0.        ,  0.        , -0.33857638,  0.        ,\n",
              "        0.02978428,  0.        ,  0.99105316, -0.73541582, -1.21721649,\n",
              "        0.        , -0.17891262,  0.        , -0.        , -0.        ,\n",
              "       -1.21945906, -0.        ,  0.        ,  0.        ,  0.        ,\n",
              "       -0.        ,  0.        ,  0.        ,  0.        ,  1.07594883,\n",
              "       -1.39052713,  1.83703971, -0.65323621,  0.        ,  0.49182859,\n",
              "       -0.16318601, -0.        ,  0.71094346, -1.19093966, -0.48499894,\n",
              "        0.17213522,  1.37890756,  0.        , -0.2060626 ,  0.        ,\n",
              "        0.00513063,  0.23951393,  1.56691766,  0.03840636,  0.        ,\n",
              "       -0.        ,  0.05823034,  1.22487509, -0.34144586,  0.        ,\n",
              "        0.50770724, -0.        ,  0.        ,  1.41858566,  0.        ,\n",
              "        0.43290696, -1.35432756,  1.06871533, -0.        ,  0.        ,\n",
              "        0.        , -0.        , -0.        ,  0.77367157,  0.35396525,\n",
              "       -0.59668684,  0.20024133, -0.42812967,  0.32236415,  0.08101462,\n",
              "       -0.        ,  0.73187858, -0.        , -0.        , -0.57589239,\n",
              "        0.        ,  0.        ,  0.4813337 , -0.        ,  1.31065977,\n",
              "        0.25946087,  0.40775704,  0.        ,  0.70984262, -0.10821116,\n",
              "       -0.05169645,  0.15131964,  0.        , -1.30937958,  0.        ,\n",
              "        0.        ,  1.08823073,  0.        , -0.54541129,  0.        ,\n",
              "       -0.49335361,  0.47845834, -0.        , -0.        , -0.        ,\n",
              "       -1.08360028,  0.        , -0.        , -1.38869846, -0.        ,\n",
              "        0.        , -0.52857816, -0.        , -0.57173812, -0.        ,\n",
              "       -0.4537082 , -0.79548246,  0.9014622 ,  0.44541612,  0.        ,\n",
              "        0.        , -0.        ,  0.        , -0.        ,  0.        ,\n",
              "        0.        ,  0.        , -0.        , -0.        , -0.63517785,\n",
              "        0.        ,  0.        ,  0.        , -0.        ,  0.61855763,\n",
              "       -0.        , -0.        , -0.08597039, -0.        , -0.24929717,\n",
              "        0.09568927, -0.46215087,  1.04562438, -0.92487299,  0.57443553,\n",
              "        0.        , -0.        ,  0.        ,  0.25380695, -0.        ,\n",
              "        0.44619969, -0.13694644, -0.        ,  1.63711262, -0.73388445,\n",
              "       -0.        , -0.        ,  0.35530284, -0.66935903, -0.        ,\n",
              "       -1.56577528, -0.        ,  0.87917876,  0.        , -0.6250031 ,\n",
              "       -0.30402684, -0.        , -0.        , -1.51566792, -0.        ,\n",
              "       -1.74189711, -0.        ,  0.51690704, -0.02076457,  0.69870746,\n",
              "       -0.        , -1.4116739 , -0.        , -0.43678492, -0.        ,\n",
              "       -0.        , -0.50660032, -0.17815849, -1.04373252, -1.56439221,\n",
              "        0.91693157, -0.33498663,  0.        , -0.85001934,  0.32616138,\n",
              "        0.        , -0.59636158, -0.98202938, -0.08642879, -0.49217808,\n",
              "       -0.        ,  0.        , -1.15464211, -0.        , -0.        ,\n",
              "       -0.85423511,  0.        , -0.31418347,  0.52206707, -0.44642606,\n",
              "        0.        ,  0.24055395, -0.        ,  0.        ,  0.        ,\n",
              "        0.        , -0.23078698, -0.30724278,  0.73386127,  1.08836365,\n",
              "        1.1845566 ,  0.        , -0.        , -0.        ,  0.        ,\n",
              "       -0.27257884,  0.        ,  0.92817223,  0.        ,  0.        ,\n",
              "       -0.74974096, -0.        ,  0.        , -0.        ,  0.        ,\n",
              "       -0.51473242,  0.79806626, -0.        ,  0.34939322,  0.62989259,\n",
              "       -0.7623381 ])"
            ]
          },
          "metadata": {},
          "execution_count": 40
        }
      ]
    },
    {
      "cell_type": "markdown",
      "source": [
        "Confirmed, there are non-zero values."
      ],
      "metadata": {
        "id": "vZautcsErkK6"
      }
    },
    {
      "cell_type": "code",
      "source": [
        "# Save latent features and labels\n",
        "save_pickle('facial_gender_latent_features.pkl',new_features)\n",
        "save_pickle('facial_gender_labels.pkl',new_labels)"
      ],
      "metadata": {
        "id": "Sxx1-vCgoZqP"
      },
      "execution_count": 41,
      "outputs": []
    },
    {
      "cell_type": "code",
      "source": [
        "ls"
      ],
      "metadata": {
        "colab": {
          "base_uri": "https://localhost:8080/"
        },
        "id": "keU5LBTGoZkk",
        "outputId": "abd60bdf-d5db-4405-f27b-8c983a346a6b"
      },
      "execution_count": 42,
      "outputs": [
        {
          "output_type": "stream",
          "name": "stdout",
          "text": [
            "age_gender.csv  facial_gender_labels.pkl           features.pkl  \u001b[0m\u001b[01;34msample_data\u001b[0m/\n",
            "age_gender.zip  facial_gender_latent_features.pkl  labels.pkl\n"
          ]
        }
      ]
    },
    {
      "cell_type": "markdown",
      "source": [
        "## Step 6. The head-only model is the model we will use in the toolkit \n",
        "This head-only model should be initially untrained when used in the toolkit, so don't apply the weights learned in step 2 to the head.\n",
        "\n",
        "Let's define that model so that we can use it in the Toolkit."
      ],
      "metadata": {
        "id": "wW2KXwAvrvEI"
      }
    },
    {
      "cell_type": "code",
      "source": [
        "class FacialRecogHeadCNNModel(nn.Module):\n",
        "    def __init__(self):\n",
        "        \"\"\" Implements just the linear + softmax output layer \n",
        "        of the full CNN\n",
        "        \"\"\"\n",
        "        super(FacialRecogHeadCNNModel, self).__init__()\n",
        "        \n",
        "        self.fc3=nn.Linear(256,2)\n",
        "        self.softmax = nn.Softmax(dim=1)\n",
        "\n",
        "    def forward(self, x):\n",
        "        \n",
        "        out=self.fc3(x)\n",
        "        out=self.softmax(out)[:,1] \n",
        "\n",
        "        return out\n",
        "\n",
        "class PytorchFacialRecogHead(SupervisedPytorchBaseModel):\n",
        "    def __init__(self,device):\n",
        "        \"\"\" \n",
        "        The Seldonian model, implementing just the head of the \n",
        "        full CNN.\n",
        "        \"\"\"\n",
        "        super().__init__(device)\n",
        "\n",
        "    def create_model(self,**kwargs):\n",
        "        return FacialRecogHeadCNNModel()"
      ],
      "metadata": {
        "id": "C6Q05iMTru_o"
      },
      "execution_count": 51,
      "outputs": []
    },
    {
      "cell_type": "markdown",
      "source": [
        "## Step 7. The data we will use are the latent features created in step 5\n",
        "\n",
        "Let's create a Seldonian dataset object from these features, the labels and the sensitive attributes "
      ],
      "metadata": {
        "id": "cty3XHo4ru8F"
      }
    },
    {
      "cell_type": "code",
      "source": [
        "print(\"Making SupervisedDataSet...\")\n",
        "\n",
        "savename_features = './facial_gender_latent_features.pkl'\n",
        "savename_labels = './facial_gender_labels.pkl'\n",
        "features = load_pickle(savename_features)\n",
        "labels = load_pickle(savename_labels)\n",
        "F = load_pickle(savename_labels) # the labels are 0 if male 1 if female\n",
        "mask=~(F.astype(\"bool\"))\n",
        "M=mask.astype('int64')\n",
        "sensitive_attrs = np.hstack((M.reshape(-1,1),F.reshape(-1,1)))\n",
        "\n",
        "sensitive_col_names = ['M','F']\n",
        "\n",
        "meta_information = {}\n",
        "meta_information['feature_col_names'] = ['img']\n",
        "meta_information['label_col_names'] = ['label']\n",
        "meta_information['sensitive_col_names'] = sensitive_col_names\n",
        "meta_information['sub_regime'] = sub_regime\n",
        "\n",
        "dataset = SupervisedDataSet(\n",
        "  features=features,\n",
        "  labels=labels,\n",
        "  sensitive_attrs=sensitive_attrs,\n",
        "  num_datapoints=N,\n",
        "  meta_information=meta_information)\n",
        "print(\"done\")"
      ],
      "metadata": {
        "colab": {
          "base_uri": "https://localhost:8080/"
        },
        "id": "tEm8vupPkdc7",
        "outputId": "319cc20d-65fa-4c21-ab27-054f415e048c"
      },
      "execution_count": 52,
      "outputs": [
        {
          "output_type": "stream",
          "name": "stdout",
          "text": [
            "Making SupervisedDataSet...\n",
            "done\n"
          ]
        }
      ]
    },
    {
      "cell_type": "code",
      "source": [
        "assert len(features) == N\n",
        "assert len(labels) == N\n",
        "assert len(sensitive_attrs) == N"
      ],
      "metadata": {
        "id": "z82pPNookfTe"
      },
      "execution_count": 53,
      "outputs": []
    },
    {
      "cell_type": "markdown",
      "source": [
        "## Step 8. Assign the frac_data_in_safety parameter of the spec object to be the same split fraction as you used in step 1\n",
        "\n",
        "We used a 50/50 split in step 1, so we just need to set frac_data_in_safety=0.5.\n",
        "\n",
        "Recall that the candidate data we use in the toolkit must match the dataset that we used to train the full model in step 2. In other words, no safety data should come from the dataset that was used to train the full model in step 2 because that would invalidate the safety/fairness guarantees. The data split that the toolkit performs does not reshuffle the data, so the candidate data will be the first half of the data we pass to the dataset object, which will indeed be the latent features that came from the data we trained the full model on."
      ],
      "metadata": {
        "id": "f8YUVBoHkgux"
      }
    },
    {
      "cell_type": "code",
      "source": [
        "frac_data_in_safety = 0.5 "
      ],
      "metadata": {
        "id": "mevp36xOs9k-"
      },
      "execution_count": 54,
      "outputs": []
    },
    {
      "cell_type": "markdown",
      "source": [
        "## Step 9. Run the Seldonian engine/experiments as normal, except now the model is a simple linear model instead of a deep network\n",
        "\n",
        "As we will see, it will be much faster than using the full model as the Seldonian model.\n",
        "\n",
        "Let's set up the spec object we need to run the Engine. We already have the dataset object, so we just need the parse trees and a few other things:"
      ],
      "metadata": {
        "id": "-hpph_Ytt8Z6"
      }
    },
    {
      "cell_type": "code",
      "source": [
        "constraint_strs = ['min((ACC | [M])/(ACC | [F]),(ACC | [F])/(ACC | [M])) >= 0.8']\n",
        "deltas = [0.05] \n",
        "print(\"Making parse trees for constraint(s):\")\n",
        "print(constraint_strs,\" with deltas: \", deltas)\n",
        "parse_trees = make_parse_trees_from_constraints(\n",
        "  constraint_strs,deltas,regime=regime,\n",
        "  sub_regime=sub_regime,columns=sensitive_col_names)\n",
        "print(\"done\")"
      ],
      "metadata": {
        "colab": {
          "base_uri": "https://localhost:8080/"
        },
        "id": "Uc32t5LMkpcS",
        "outputId": "662c10d8-0539-4c80-fc36-1dc5e1a9aab5"
      },
      "execution_count": 55,
      "outputs": [
        {
          "output_type": "stream",
          "name": "stdout",
          "text": [
            "Making parse trees for constraint(s):\n",
            "['min((ACC | [M])/(ACC | [F]),(ACC | [F])/(ACC | [M])) >= 0.8']  with deltas:  [0.05]\n",
            "done\n"
          ]
        }
      ]
    },
    {
      "cell_type": "code",
      "source": [
        "# Set the model to be the head-only model\n",
        "# Let's run on the CPU because it's just a linear model - no need for GPU.\n",
        "cpu_device = torch.device(\"cpu\")\n",
        "model = PytorchFacialRecogHead(cpu_device)"
      ],
      "metadata": {
        "id": "hh6Bei7sk1wZ"
      },
      "execution_count": 56,
      "outputs": []
    },
    {
      "cell_type": "code",
      "source": [
        "# Set the rest of the spec parameters.\n",
        "# All of these are the same as what we used in the \n",
        "# gender classifier example.\n",
        "initial_solution_fn = model.get_model_params\n",
        "primary_objective_fn = objectives.binary_logistic_loss"
      ],
      "metadata": {
        "id": "QSXY7-AluXke"
      },
      "execution_count": 57,
      "outputs": []
    },
    {
      "cell_type": "code",
      "source": [
        "# Make the spec object and save it\n",
        "spec = SupervisedSpec(\n",
        "\t\tdataset=dataset,\n",
        "\t\tmodel=model,\n",
        "\t\tparse_trees=parse_trees,\n",
        "\t\tfrac_data_in_safety=frac_data_in_safety,\n",
        "\t\tprimary_objective=primary_objective_fn,\n",
        "\t\tuse_builtin_primary_gradient_fn=False,\n",
        "\t\tsub_regime=sub_regime,\n",
        "\t\tinitial_solution_fn=initial_solution_fn,\n",
        "\t\toptimization_technique='gradient_descent',\n",
        "\t\toptimizer='adam',\n",
        "\t\toptimization_hyperparams={\n",
        "\t\t\t'lambda_init'   : np.array([0.5]),\n",
        "\t\t\t'alpha_theta'   : 0.01,\n",
        "\t\t\t'alpha_lamb'    : 0.01,\n",
        "\t\t\t'beta_velocity' : 0.9,\n",
        "\t\t\t'beta_rmsprop'  : 0.95,\n",
        "\t\t\t'use_batches'   : True,\n",
        "\t\t\t'batch_size'    : 237,\n",
        "\t\t\t'n_epochs'      : 20,\n",
        "\t\t\t'num_iters'     : 1200,\n",
        "\t\t\t'gradient_library': \"autograd\",\n",
        "\t\t\t'hyper_search'  : None,\n",
        "\t\t\t'verbose'       : True,\n",
        "\t\t},\n",
        "\t\tbatch_size_safety=2000\n",
        "\t)\n",
        "save_pickle('./spec.pkl',spec,verbose=True)"
      ],
      "metadata": {
        "colab": {
          "base_uri": "https://localhost:8080/"
        },
        "id": "9nTrWxQiugOM",
        "outputId": "6e5c9b8d-179e-4cf6-8261-af72cf3d0c90"
      },
      "execution_count": 58,
      "outputs": [
        {
          "output_type": "stream",
          "name": "stdout",
          "text": [
            "Saved ./spec.pkl\n",
            "\n"
          ]
        }
      ]
    },
    {
      "cell_type": "code",
      "source": [
        "%%time\n",
        "# Run the Seldonian Engine\n",
        "SA = SeldonianAlgorithm(spec)\n",
        "passed_safety,solution = SA.run(debug=False,write_cs_logfile=True)"
      ],
      "metadata": {
        "colab": {
          "base_uri": "https://localhost:8080/"
        },
        "id": "_fICllnVuwVF",
        "outputId": "567b1390-fef3-43e7-f130-15d40e6e1610"
      },
      "execution_count": 59,
      "outputs": [
        {
          "output_type": "stream",
          "name": "stdout",
          "text": [
            "Safety dataset has 11850 datapoints\n",
            "Candidate dataset has 11850 datapoints\n",
            "Have 20 epochs and 50 batches of size 237 for a total of 1000 iterations\n",
            "Epoch: 0, batch iteration 0\n",
            "Epoch: 0, batch iteration 10\n",
            "Epoch: 0, batch iteration 20\n",
            "Epoch: 0, batch iteration 30\n",
            "Epoch: 0, batch iteration 40\n",
            "Epoch: 1, batch iteration 0\n",
            "Epoch: 1, batch iteration 10\n",
            "Epoch: 1, batch iteration 20\n",
            "Epoch: 1, batch iteration 30\n",
            "Epoch: 1, batch iteration 40\n",
            "Epoch: 2, batch iteration 0\n",
            "Epoch: 2, batch iteration 10\n",
            "Epoch: 2, batch iteration 20\n",
            "Epoch: 2, batch iteration 30\n",
            "Epoch: 2, batch iteration 40\n",
            "Epoch: 3, batch iteration 0\n",
            "Epoch: 3, batch iteration 10\n",
            "Epoch: 3, batch iteration 20\n",
            "Epoch: 3, batch iteration 30\n",
            "Epoch: 3, batch iteration 40\n",
            "Epoch: 4, batch iteration 0\n",
            "Epoch: 4, batch iteration 10\n",
            "Epoch: 4, batch iteration 20\n",
            "Epoch: 4, batch iteration 30\n",
            "Epoch: 4, batch iteration 40\n",
            "Epoch: 5, batch iteration 0\n",
            "Epoch: 5, batch iteration 10\n",
            "Epoch: 5, batch iteration 20\n",
            "Epoch: 5, batch iteration 30\n",
            "Epoch: 5, batch iteration 40\n",
            "Epoch: 6, batch iteration 0\n",
            "Epoch: 6, batch iteration 10\n",
            "Epoch: 6, batch iteration 20\n",
            "Epoch: 6, batch iteration 30\n",
            "Epoch: 6, batch iteration 40\n",
            "Epoch: 7, batch iteration 0\n",
            "Epoch: 7, batch iteration 10\n",
            "Epoch: 7, batch iteration 20\n",
            "Epoch: 7, batch iteration 30\n",
            "Epoch: 7, batch iteration 40\n",
            "Epoch: 8, batch iteration 0\n",
            "Epoch: 8, batch iteration 10\n",
            "Epoch: 8, batch iteration 20\n",
            "Epoch: 8, batch iteration 30\n",
            "Epoch: 8, batch iteration 40\n",
            "Epoch: 9, batch iteration 0\n",
            "Epoch: 9, batch iteration 10\n",
            "Epoch: 9, batch iteration 20\n",
            "Epoch: 9, batch iteration 30\n",
            "Epoch: 9, batch iteration 40\n",
            "Epoch: 10, batch iteration 0\n",
            "Epoch: 10, batch iteration 10\n",
            "Epoch: 10, batch iteration 20\n",
            "Epoch: 10, batch iteration 30\n",
            "Epoch: 10, batch iteration 40\n",
            "Epoch: 11, batch iteration 0\n",
            "Epoch: 11, batch iteration 10\n",
            "Epoch: 11, batch iteration 20\n",
            "Epoch: 11, batch iteration 30\n",
            "Epoch: 11, batch iteration 40\n",
            "Epoch: 12, batch iteration 0\n",
            "Epoch: 12, batch iteration 10\n",
            "Epoch: 12, batch iteration 20\n",
            "Epoch: 12, batch iteration 30\n",
            "Epoch: 12, batch iteration 40\n",
            "Epoch: 13, batch iteration 0\n",
            "Epoch: 13, batch iteration 10\n",
            "Epoch: 13, batch iteration 20\n",
            "Epoch: 13, batch iteration 30\n",
            "Epoch: 13, batch iteration 40\n",
            "Epoch: 14, batch iteration 0\n",
            "Epoch: 14, batch iteration 10\n",
            "Epoch: 14, batch iteration 20\n",
            "Epoch: 14, batch iteration 30\n",
            "Epoch: 14, batch iteration 40\n",
            "Epoch: 15, batch iteration 0\n",
            "Epoch: 15, batch iteration 10\n",
            "Epoch: 15, batch iteration 20\n",
            "Epoch: 15, batch iteration 30\n",
            "Epoch: 15, batch iteration 40\n",
            "Epoch: 16, batch iteration 0\n",
            "Epoch: 16, batch iteration 10\n",
            "Epoch: 16, batch iteration 20\n",
            "Epoch: 16, batch iteration 30\n",
            "Epoch: 16, batch iteration 40\n",
            "Epoch: 17, batch iteration 0\n",
            "Epoch: 17, batch iteration 10\n",
            "Epoch: 17, batch iteration 20\n",
            "Epoch: 17, batch iteration 30\n",
            "Epoch: 17, batch iteration 40\n",
            "Epoch: 18, batch iteration 0\n",
            "Epoch: 18, batch iteration 10\n",
            "Epoch: 18, batch iteration 20\n",
            "Epoch: 18, batch iteration 30\n",
            "Epoch: 18, batch iteration 40\n",
            "Epoch: 19, batch iteration 0\n",
            "Epoch: 19, batch iteration 10\n",
            "Epoch: 19, batch iteration 20\n",
            "Epoch: 19, batch iteration 30\n",
            "Epoch: 19, batch iteration 40\n",
            "Wrote /content/logs/candidate_selection_log0.p with candidate selection log info\n",
            "CPU times: user 7.95 s, sys: 69.5 ms, total: 8.02 s\n",
            "Wall time: 8.02 s\n"
          ]
        }
      ]
    },
    {
      "cell_type": "markdown",
      "source": [
        "We can see that it passed the safety test, and it took less than 10 seconds on the CPU (time will vary because Colab resources are volatile). Let's visualize the gradient descent process:"
      ],
      "metadata": {
        "id": "cK5V-M13vBSx"
      }
    },
    {
      "cell_type": "code",
      "source": [
        "f='/content/logs/candidate_selection_log0.p'\n",
        "sol_dict = load_pickle(f)\n",
        "fig=plot_gradient_descent(sol_dict,primary_objective_name='cross entropy',plot_running_avg=True)"
      ],
      "metadata": {
        "colab": {
          "base_uri": "https://localhost:8080/",
          "height": 313
        },
        "id": "sQLiDA8IvWfK",
        "outputId": "a726869c-f355-44bd-812a-cab5dc814927"
      },
      "execution_count": 60,
      "outputs": [
        {
          "output_type": "display_data",
          "data": {
            "text/plain": [
              "<Figure size 720x288 with 4 Axes>"
            ],
            "image/png": "[encoded data removed]"
          },
          "metadata": {
            "needs_background": "light"
          }
        }
      ]
    },
    {
      "cell_type": "markdown",
      "source": [
        "## Run a Seldonian Experiment\n",
        "\n",
        "**Note:** Running the following experiments is compute-intensive on the CPU. The experiments library is parallelized across multiple CPUs to speed up the computation. However, free-tier Colab Notebooks such as the default one you may be using lack the number and quality of CPUs for running the experiments in a reasonable amount of time. To avoid having you spend hours waiting for the experiments to finish, we have pre-populated the results of running the experiments. As a result, when you run the code below, it will not run the engine for each of the trials. Instead, it will recognize that the file from running each trial already exists and move on to the plotting step. However, you would use the same code to actually run the experiments if those pre-populated files did not exist. If you want to run these experiments yourself in full, we recommend using a machine with at least 4 CPUs. For reference, on a Mac M1 with 7 CPU cores the experiment takes between between 5 and 10 minutes to complete. Though we have not tested this code in Google Colab PRO or PRO+ notebooks, we expect that the resources allocated in those paid-tier notebooks will be sufficient to run the full experiment.\n",
        "\n",
        "Before we go any further, let's fetch the results that we will use to pre-populate the experiment so that we don't need to run the trials in this Colab Notebook. "
      ],
      "metadata": {
        "id": "K-kQltVPviUU"
      }
    },
    {
      "cell_type": "code",
      "source": [
        "!wget https://github.com/seldonian-toolkit/Tutorials/raw/main/tutorial_j_results/headless_facial_gender_results.tgz"
      ],
      "metadata": {
        "colab": {
          "base_uri": "https://localhost:8080/"
        },
        "id": "Z9MJHu3_zYhw",
        "outputId": "a421b8ea-cfc1-4e0e-cf55-16070ef22991"
      },
      "execution_count": 61,
      "outputs": [
        {
          "output_type": "stream",
          "name": "stdout",
          "text": [
            "--2023-01-23 18:56:04--  https://github.com/seldonian-toolkit/Tutorials/raw/main/tutorial_j_results/headless_facial_gender_results.tgz\n",
            "Resolving github.com (github.com)... 140.82.121.3\n",
            "Connecting to github.com (github.com)|140.82.121.3|:443... connected.\n",
            "HTTP request sent, awaiting response... 302 Found\n",
            "Location: https://raw.githubusercontent.com/seldonian-toolkit/Tutorials/main/tutorial_j_results/headless_facial_gender_results.tgz [following]\n",
            "--2023-01-23 18:56:04--  https://raw.githubusercontent.com/seldonian-toolkit/Tutorials/main/tutorial_j_results/headless_facial_gender_results.tgz\n",
            "Resolving raw.githubusercontent.com (raw.githubusercontent.com)... 185.199.108.133, 185.199.109.133, 185.199.110.133, ...\n",
            "Connecting to raw.githubusercontent.com (raw.githubusercontent.com)|185.199.108.133|:443... connected.\n",
            "HTTP request sent, awaiting response... 200 OK\n",
            "Length: 6624 (6.5K) [application/octet-stream]\n",
            "Saving to: ‘headless_facial_gender_results.tgz’\n",
            "\n",
            "headless_facial_gen 100%[===================>]   6.47K  --.-KB/s    in 0s      \n",
            "\n",
            "2023-01-23 18:56:04 (79.3 MB/s) - ‘headless_facial_gender_results.tgz’ saved [6624/6624]\n",
            "\n"
          ]
        }
      ]
    },
    {
      "cell_type": "markdown",
      "source": [
        "Unzip the tar file to extract the trials results."
      ],
      "metadata": {
        "id": "pkl-shiazep7"
      }
    },
    {
      "cell_type": "code",
      "source": [
        "! tar -zxvf headless_facial_gender_results.tgz"
      ],
      "metadata": {
        "colab": {
          "base_uri": "https://localhost:8080/"
        },
        "id": "9u3IX7SKzjuK",
        "outputId": "5987fcf6-4107-4c87-9a26-c6db115a6d3f"
      },
      "execution_count": 62,
      "outputs": [
        {
          "output_type": "stream",
          "name": "stdout",
          "text": [
            "facial_recog_cnn_results/\n",
            "facial_recog_cnn_results/facial_recog_cnn_results.csv\n",
            "facial_recog_cnn_results/trial_data/\n",
            "facial_recog_cnn_results/trial_data/data_frac_0.3300_trial_6.csv\n",
            "facial_recog_cnn_results/trial_data/data_frac_1.0000_trial_3.csv\n",
            "facial_recog_cnn_results/trial_data/data_frac_1.0000_trial_2.csv\n",
            "facial_recog_cnn_results/trial_data/data_frac_0.3300_trial_7.csv\n",
            "facial_recog_cnn_results/trial_data/data_frac_0.3300_trial_5.csv\n",
            "facial_recog_cnn_results/trial_data/data_frac_1.0000_trial_0.csv\n",
            "facial_recog_cnn_results/trial_data/data_frac_1.0000_trial_1.csv\n",
            "facial_recog_cnn_results/trial_data/data_frac_0.3300_trial_4.csv\n",
            "facial_recog_cnn_results/trial_data/data_frac_0.3300_trial_0.csv\n",
            "facial_recog_cnn_results/trial_data/data_frac_1.0000_trial_5.csv\n",
            "facial_recog_cnn_results/trial_data/data_frac_1.0000_trial_4.csv\n",
            "facial_recog_cnn_results/trial_data/data_frac_0.3300_trial_1.csv\n",
            "facial_recog_cnn_results/trial_data/data_frac_0.3300_trial_3.csv\n",
            "facial_recog_cnn_results/trial_data/data_frac_1.0000_trial_6.csv\n",
            "facial_recog_cnn_results/trial_data/data_frac_1.0000_trial_7.csv\n",
            "facial_recog_cnn_results/trial_data/data_frac_0.3300_trial_2.csv\n",
            "facial_recog_cnn_results/trial_data/data_frac_0.0010_trial_5.csv\n",
            "facial_recog_cnn_results/trial_data/data_frac_0.1000_trial_6.csv\n",
            "facial_recog_cnn_results/trial_data/data_frac_0.1000_trial_7.csv\n",
            "facial_recog_cnn_results/trial_data/data_frac_0.0010_trial_4.csv\n",
            "facial_recog_cnn_results/trial_data/data_frac_0.0010_trial_6.csv\n",
            "facial_recog_cnn_results/trial_data/data_frac_0.1000_trial_5.csv\n",
            "facial_recog_cnn_results/trial_data/data_frac_0.1000_trial_4.csv\n",
            "facial_recog_cnn_results/trial_data/data_frac_0.0010_trial_7.csv\n",
            "facial_recog_cnn_results/trial_data/data_frac_0.6600_trial_9.csv\n",
            "facial_recog_cnn_results/trial_data/data_frac_0.1000_trial_0.csv\n",
            "facial_recog_cnn_results/trial_data/data_frac_0.0010_trial_3.csv\n",
            "facial_recog_cnn_results/trial_data/data_frac_0.0010_trial_2.csv\n",
            "facial_recog_cnn_results/trial_data/data_frac_0.1000_trial_1.csv\n",
            "facial_recog_cnn_results/trial_data/data_frac_0.6600_trial_8.csv\n",
            "facial_recog_cnn_results/trial_data/data_frac_0.0100_trial_9.csv\n",
            "facial_recog_cnn_results/trial_data/data_frac_0.1000_trial_3.csv\n",
            "facial_recog_cnn_results/trial_data/data_frac_0.0010_trial_0.csv\n",
            "facial_recog_cnn_results/trial_data/data_frac_0.0050_trial_8.csv\n",
            "facial_recog_cnn_results/trial_data/data_frac_0.0050_trial_9.csv\n",
            "facial_recog_cnn_results/trial_data/data_frac_0.0010_trial_1.csv\n",
            "facial_recog_cnn_results/trial_data/data_frac_0.1000_trial_2.csv\n",
            "facial_recog_cnn_results/trial_data/data_frac_0.0100_trial_8.csv\n",
            "facial_recog_cnn_results/trial_data/data_frac_0.0100_trial_5.csv\n",
            "facial_recog_cnn_results/trial_data/data_frac_0.6600_trial_6.csv\n",
            "facial_recog_cnn_results/trial_data/data_frac_0.0050_trial_4.csv\n",
            "facial_recog_cnn_results/trial_data/data_frac_0.0050_trial_5.csv\n",
            "facial_recog_cnn_results/trial_data/data_frac_0.6600_trial_7.csv\n",
            "facial_recog_cnn_results/trial_data/data_frac_0.0100_trial_4.csv\n",
            "facial_recog_cnn_results/trial_data/data_frac_0.0100_trial_6.csv\n",
            "facial_recog_cnn_results/trial_data/data_frac_0.6600_trial_5.csv\n",
            "facial_recog_cnn_results/trial_data/data_frac_0.0050_trial_7.csv\n",
            "facial_recog_cnn_results/trial_data/data_frac_0.0050_trial_6.csv\n",
            "facial_recog_cnn_results/trial_data/data_frac_0.6600_trial_4.csv\n",
            "facial_recog_cnn_results/trial_data/data_frac_0.0100_trial_7.csv\n",
            "facial_recog_cnn_results/trial_data/data_frac_0.0100_trial_3.csv\n",
            "facial_recog_cnn_results/trial_data/data_frac_0.6600_trial_0.csv\n",
            "facial_recog_cnn_results/trial_data/data_frac_0.1000_trial_9.csv\n",
            "facial_recog_cnn_results/trial_data/data_frac_0.0050_trial_2.csv\n",
            "facial_recog_cnn_results/trial_data/data_frac_0.0050_trial_3.csv\n",
            "facial_recog_cnn_results/trial_data/data_frac_0.1000_trial_8.csv\n",
            "facial_recog_cnn_results/trial_data/data_frac_0.6600_trial_1.csv\n",
            "facial_recog_cnn_results/trial_data/data_frac_0.0100_trial_2.csv\n",
            "facial_recog_cnn_results/trial_data/data_frac_0.0100_trial_0.csv\n",
            "facial_recog_cnn_results/trial_data/data_frac_0.6600_trial_3.csv\n",
            "facial_recog_cnn_results/trial_data/data_frac_0.0010_trial_9.csv\n",
            "facial_recog_cnn_results/trial_data/data_frac_0.0050_trial_1.csv\n",
            "facial_recog_cnn_results/trial_data/data_frac_0.0050_trial_0.csv\n",
            "facial_recog_cnn_results/trial_data/data_frac_0.0010_trial_8.csv\n",
            "facial_recog_cnn_results/trial_data/data_frac_0.6600_trial_2.csv\n",
            "facial_recog_cnn_results/trial_data/data_frac_0.0100_trial_1.csv\n",
            "facial_recog_cnn_results/trial_data/data_frac_1.0000_trial_9.csv\n",
            "facial_recog_cnn_results/trial_data/data_frac_1.0000_trial_8.csv\n",
            "facial_recog_cnn_results/trial_data/data_frac_0.3300_trial_9.csv\n",
            "facial_recog_cnn_results/trial_data/data_frac_0.3300_trial_8.csv\n",
            "qsa_fullmodel_results/\n",
            "qsa_fullmodel_results/qsa_fullmodel_results.csv\n",
            "qsa_fullmodel_results/trial_data/\n",
            "qsa_fullmodel_results/trial_data/data_frac_0.3300_trial_6.csv\n",
            "qsa_fullmodel_results/trial_data/data_frac_1.0000_trial_3.csv\n",
            "qsa_fullmodel_results/trial_data/data_frac_1.0000_trial_2.csv\n",
            "qsa_fullmodel_results/trial_data/data_frac_0.3300_trial_7.csv\n",
            "qsa_fullmodel_results/trial_data/data_frac_0.3300_trial_5.csv\n",
            "qsa_fullmodel_results/trial_data/data_frac_1.0000_trial_0.csv\n",
            "qsa_fullmodel_results/trial_data/data_frac_1.0000_trial_1.csv\n",
            "qsa_fullmodel_results/trial_data/data_frac_0.3300_trial_4.csv\n",
            "qsa_fullmodel_results/trial_data/data_frac_0.3300_trial_0.csv\n",
            "qsa_fullmodel_results/trial_data/data_frac_1.0000_trial_5.csv\n",
            "qsa_fullmodel_results/trial_data/data_frac_1.0000_trial_4.csv\n",
            "qsa_fullmodel_results/trial_data/data_frac_0.3300_trial_1.csv\n",
            "qsa_fullmodel_results/trial_data/data_frac_0.3300_trial_3.csv\n",
            "qsa_fullmodel_results/trial_data/data_frac_1.0000_trial_6.csv\n",
            "qsa_fullmodel_results/trial_data/data_frac_1.0000_trial_7.csv\n",
            "qsa_fullmodel_results/trial_data/data_frac_0.3300_trial_2.csv\n",
            "qsa_fullmodel_results/trial_data/data_frac_0.0010_trial_5.csv\n",
            "qsa_fullmodel_results/trial_data/data_frac_0.1000_trial_6.csv\n",
            "qsa_fullmodel_results/trial_data/data_frac_0.1000_trial_7.csv\n",
            "qsa_fullmodel_results/trial_data/data_frac_0.0010_trial_4.csv\n",
            "qsa_fullmodel_results/trial_data/data_frac_0.0010_trial_6.csv\n",
            "qsa_fullmodel_results/trial_data/data_frac_0.1000_trial_5.csv\n",
            "qsa_fullmodel_results/trial_data/data_frac_0.1000_trial_4.csv\n",
            "qsa_fullmodel_results/trial_data/data_frac_0.0010_trial_7.csv\n",
            "qsa_fullmodel_results/trial_data/data_frac_0.6600_trial_9.csv\n",
            "qsa_fullmodel_results/trial_data/data_frac_0.1000_trial_0.csv\n",
            "qsa_fullmodel_results/trial_data/data_frac_0.0010_trial_3.csv\n",
            "qsa_fullmodel_results/trial_data/data_frac_0.0010_trial_2.csv\n",
            "qsa_fullmodel_results/trial_data/data_frac_0.1000_trial_1.csv\n",
            "qsa_fullmodel_results/trial_data/data_frac_0.6600_trial_8.csv\n",
            "qsa_fullmodel_results/trial_data/data_frac_0.0100_trial_9.csv\n",
            "qsa_fullmodel_results/trial_data/data_frac_0.1000_trial_3.csv\n",
            "qsa_fullmodel_results/trial_data/data_frac_0.0010_trial_0.csv\n",
            "qsa_fullmodel_results/trial_data/data_frac_0.0050_trial_8.csv\n",
            "qsa_fullmodel_results/trial_data/data_frac_0.0050_trial_9.csv\n",
            "qsa_fullmodel_results/trial_data/data_frac_0.0010_trial_1.csv\n",
            "qsa_fullmodel_results/trial_data/data_frac_0.1000_trial_2.csv\n",
            "qsa_fullmodel_results/trial_data/data_frac_0.0100_trial_8.csv\n",
            "qsa_fullmodel_results/trial_data/data_frac_0.0100_trial_5.csv\n",
            "qsa_fullmodel_results/trial_data/data_frac_0.6600_trial_6.csv\n",
            "qsa_fullmodel_results/trial_data/data_frac_0.0050_trial_4.csv\n",
            "qsa_fullmodel_results/trial_data/data_frac_0.0050_trial_5.csv\n",
            "qsa_fullmodel_results/trial_data/data_frac_0.6600_trial_7.csv\n",
            "qsa_fullmodel_results/trial_data/data_frac_0.0100_trial_4.csv\n",
            "qsa_fullmodel_results/trial_data/data_frac_0.0100_trial_6.csv\n",
            "qsa_fullmodel_results/trial_data/data_frac_0.6600_trial_5.csv\n",
            "qsa_fullmodel_results/trial_data/data_frac_0.0050_trial_7.csv\n",
            "qsa_fullmodel_results/trial_data/data_frac_0.0050_trial_6.csv\n",
            "qsa_fullmodel_results/trial_data/data_frac_0.6600_trial_4.csv\n",
            "qsa_fullmodel_results/trial_data/data_frac_0.0100_trial_7.csv\n",
            "qsa_fullmodel_results/trial_data/data_frac_0.0100_trial_3.csv\n",
            "qsa_fullmodel_results/trial_data/data_frac_0.6600_trial_0.csv\n",
            "qsa_fullmodel_results/trial_data/data_frac_0.1000_trial_9.csv\n",
            "qsa_fullmodel_results/trial_data/data_frac_0.0050_trial_2.csv\n",
            "qsa_fullmodel_results/trial_data/data_frac_0.0050_trial_3.csv\n",
            "qsa_fullmodel_results/trial_data/data_frac_0.1000_trial_8.csv\n",
            "qsa_fullmodel_results/trial_data/data_frac_0.6600_trial_1.csv\n",
            "qsa_fullmodel_results/trial_data/data_frac_0.0100_trial_2.csv\n",
            "qsa_fullmodel_results/trial_data/data_frac_0.0100_trial_0.csv\n",
            "qsa_fullmodel_results/trial_data/data_frac_0.6600_trial_3.csv\n",
            "qsa_fullmodel_results/trial_data/data_frac_0.0010_trial_9.csv\n",
            "qsa_fullmodel_results/trial_data/data_frac_0.0050_trial_1.csv\n",
            "qsa_fullmodel_results/trial_data/data_frac_0.0050_trial_0.csv\n",
            "qsa_fullmodel_results/trial_data/data_frac_0.0010_trial_8.csv\n",
            "qsa_fullmodel_results/trial_data/data_frac_0.6600_trial_2.csv\n",
            "qsa_fullmodel_results/trial_data/data_frac_0.0100_trial_1.csv\n",
            "qsa_fullmodel_results/trial_data/data_frac_1.0000_trial_9.csv\n",
            "qsa_fullmodel_results/trial_data/data_frac_1.0000_trial_8.csv\n",
            "qsa_fullmodel_results/trial_data/data_frac_0.3300_trial_9.csv\n",
            "qsa_fullmodel_results/trial_data/data_frac_0.3300_trial_8.csv\n",
            "qsa_results/\n",
            "qsa_results/qsa_results.csv\n",
            "qsa_results/trial_data/\n",
            "qsa_results/trial_data/data_frac_0.3300_trial_6.csv\n",
            "qsa_results/trial_data/data_frac_0.3300_trial_7.csv\n",
            "qsa_results/trial_data/data_frac_0.3300_trial_5.csv\n",
            "qsa_results/trial_data/data_frac_0.3300_trial_4.csv\n",
            "qsa_results/trial_data/data_frac_0.3300_trial_0.csv\n",
            "qsa_results/trial_data/data_frac_0.3300_trial_1.csv\n",
            "qsa_results/trial_data/data_frac_0.3300_trial_3.csv\n",
            "qsa_results/trial_data/data_frac_0.3300_trial_2.csv\n",
            "qsa_results/trial_data/data_frac_0.0010_trial_5.csv\n",
            "qsa_results/trial_data/data_frac_0.1000_trial_6.csv\n",
            "qsa_results/trial_data/data_frac_0.1000_trial_7.csv\n",
            "qsa_results/trial_data/data_frac_0.0010_trial_4.csv\n",
            "qsa_results/trial_data/data_frac_0.0010_trial_6.csv\n",
            "qsa_results/trial_data/data_frac_0.1000_trial_5.csv\n",
            "qsa_results/trial_data/data_frac_0.1000_trial_4.csv\n",
            "qsa_results/trial_data/data_frac_0.0010_trial_7.csv\n",
            "qsa_results/trial_data/data_frac_0.6600_trial_9.csv\n",
            "qsa_results/trial_data/data_frac_0.1000_trial_0.csv\n",
            "qsa_results/trial_data/data_frac_0.0010_trial_3.csv\n",
            "qsa_results/trial_data/data_frac_0.0010_trial_2.csv\n",
            "qsa_results/trial_data/data_frac_0.1000_trial_1.csv\n",
            "qsa_results/trial_data/data_frac_0.6600_trial_8.csv\n",
            "qsa_results/trial_data/data_frac_0.0100_trial_9.csv\n",
            "qsa_results/trial_data/data_frac_0.1000_trial_3.csv\n",
            "qsa_results/trial_data/data_frac_0.0010_trial_0.csv\n",
            "qsa_results/trial_data/data_frac_0.0050_trial_8.csv\n",
            "qsa_results/trial_data/data_frac_0.0050_trial_9.csv\n",
            "qsa_results/trial_data/data_frac_0.0010_trial_1.csv\n",
            "qsa_results/trial_data/data_frac_0.1000_trial_2.csv\n",
            "qsa_results/trial_data/data_frac_0.0100_trial_8.csv\n",
            "qsa_results/trial_data/data_frac_0.0100_trial_5.csv\n",
            "qsa_results/trial_data/data_frac_0.6600_trial_6.csv\n",
            "qsa_results/trial_data/data_frac_0.0050_trial_4.csv\n",
            "qsa_results/trial_data/data_frac_0.0050_trial_5.csv\n",
            "qsa_results/trial_data/data_frac_0.6600_trial_7.csv\n",
            "qsa_results/trial_data/data_frac_0.0100_trial_4.csv\n",
            "qsa_results/trial_data/data_frac_0.0100_trial_6.csv\n",
            "qsa_results/trial_data/data_frac_0.6600_trial_5.csv\n",
            "qsa_results/trial_data/data_frac_0.0050_trial_7.csv\n",
            "qsa_results/trial_data/data_frac_0.0050_trial_6.csv\n",
            "qsa_results/trial_data/data_frac_0.6600_trial_4.csv\n",
            "qsa_results/trial_data/data_frac_0.0100_trial_7.csv\n",
            "qsa_results/trial_data/data_frac_0.0100_trial_3.csv\n",
            "qsa_results/trial_data/data_frac_0.6600_trial_0.csv\n",
            "qsa_results/trial_data/data_frac_0.1000_trial_9.csv\n",
            "qsa_results/trial_data/data_frac_0.0050_trial_2.csv\n",
            "qsa_results/trial_data/data_frac_0.0050_trial_3.csv\n",
            "qsa_results/trial_data/data_frac_0.1000_trial_8.csv\n",
            "qsa_results/trial_data/data_frac_0.6600_trial_1.csv\n",
            "qsa_results/trial_data/data_frac_0.0100_trial_2.csv\n",
            "qsa_results/trial_data/data_frac_0.0100_trial_0.csv\n",
            "qsa_results/trial_data/data_frac_0.6600_trial_3.csv\n",
            "qsa_results/trial_data/data_frac_0.0010_trial_9.csv\n",
            "qsa_results/trial_data/data_frac_0.0050_trial_1.csv\n",
            "qsa_results/trial_data/data_frac_0.0050_trial_0.csv\n",
            "qsa_results/trial_data/data_frac_0.0010_trial_8.csv\n",
            "qsa_results/trial_data/data_frac_0.6600_trial_2.csv\n",
            "qsa_results/trial_data/data_frac_0.0100_trial_1.csv\n",
            "qsa_results/trial_data/data_frac_0.3300_trial_9.csv\n",
            "qsa_results/trial_data/data_frac_0.3300_trial_8.csv\n"
          ]
        }
      ]
    },
    {
      "cell_type": "code",
      "source": [
        "ls"
      ],
      "metadata": {
        "colab": {
          "base_uri": "https://localhost:8080/"
        },
        "id": "c4LSAlrGzp1k",
        "outputId": "62697518-610a-44ce-9644-fc5957a22333"
      },
      "execution_count": 63,
      "outputs": [
        {
          "output_type": "stream",
          "name": "stdout",
          "text": [
            "age_gender.csv                      labels.pkl\n",
            "age_gender.zip                      \u001b[0m\u001b[01;34mlogs\u001b[0m/\n",
            "facial_gender_labels.pkl            \u001b[01;34mqsa_fullmodel_results\u001b[0m/\n",
            "facial_gender_latent_features.pkl   \u001b[01;34mqsa_results\u001b[0m/\n",
            "\u001b[01;34mfacial_recog_cnn_results\u001b[0m/           \u001b[01;34msample_data\u001b[0m/\n",
            "features.pkl                        spec.pkl\n",
            "headless_facial_gender_results.tgz\n"
          ]
        }
      ]
    },
    {
      "cell_type": "code",
      "source": [
        "import os\n",
        "from experiments.generate_plots import SupervisedPlotGenerator\n",
        "from sklearn.metrics import log_loss,accuracy_score"
      ],
      "metadata": {
        "colab": {
          "base_uri": "https://localhost:8080/"
        },
        "id": "RmDd0fNrwUF8",
        "outputId": "0e4d6543-507b-42ea-c224-7b35fc10e469"
      },
      "execution_count": 64,
      "outputs": [
        {
          "output_type": "stream",
          "name": "stdout",
          "text": [
            "\n",
            "WARNING: The module 'simglucose' was not imported. If you want to use the diabetes simulator, then do:\n",
            "pip install simglucose\n",
            "\n",
            "\n",
            "WARNING: The module 'fairlearn' was not imported. If you want to use the fairlearn baselines, then do:\n",
            "pip install fairlearn==0.7.0\n",
            "\n"
          ]
        }
      ]
    },
    {
      "cell_type": "code",
      "source": [
        "# Parameter setup\n",
        "include_legend = True\n",
        "performance_metric = 'Accuracy'\n",
        "model_label_dict = {\n",
        "  'qsa':'CNN (QSA on head only)',\n",
        "  'qsa_fullmodel':'CNN (QSA on full model)',\n",
        "  'facial_recog_cnn': 'full CNN (no constraints)'}\n",
        "\n",
        "n_trials = 10\n",
        "data_fracs = [0.001,0.005,0.01,0.1,0.33,0.66] \n",
        "batch_epoch_dict = {\n",
        "  0.001:[24,50],\n",
        "  0.005:[119,50],\n",
        "  0.01:[237,75],\n",
        "  0.1:[237,30],\n",
        "  0.33:[237,20],\n",
        "  0.66:[237,10],\n",
        "  1.0: [237,10]\n",
        "}\n",
        "n_workers = 1\n",
        "results_dir = '.'\n",
        "verbose=False\n",
        "os.makedirs(results_dir,exist_ok=True)"
      ],
      "metadata": {
        "id": "VgHUpUT_wxZm"
      },
      "execution_count": 65,
      "outputs": []
    },
    {
      "cell_type": "code",
      "source": [
        "# Use entire original dataset as ground truth for test set\n",
        "dataset = spec.dataset\n",
        "test_features = dataset.features\n",
        "test_labels = dataset.labels"
      ],
      "metadata": {
        "id": "nyAcXT3vxIWO"
      },
      "execution_count": 66,
      "outputs": []
    },
    {
      "cell_type": "code",
      "source": [
        "# Setup performance evaluation functions and kwargs \n",
        "def perf_eval_fn(y_pred,y,**kwargs):\n",
        "  if performance_metric == 'log_loss':\n",
        "    return log_loss(y,y_pred)\n",
        "  elif performance_metric == 'Accuracy':\n",
        "    return accuracy_score(y,y_pred > 0.5)"
      ],
      "metadata": {
        "id": "43-wxWhvxECr"
      },
      "execution_count": 67,
      "outputs": []
    },
    {
      "cell_type": "code",
      "source": [
        "perf_eval_kwargs = {\n",
        "  'X':test_features,\n",
        "  'y':test_labels,\n",
        "  'device':cpu_device,\n",
        "  'eval_batch_size':2000\n",
        "  }"
      ],
      "metadata": {
        "id": "8pm6Xkq8xQn3"
      },
      "execution_count": 68,
      "outputs": []
    },
    {
      "cell_type": "code",
      "source": [
        "# Use default constraint eval function (don't need to set anything for that)\n",
        "# Define kwargs to pass the the constraint eval function\n",
        "constraint_eval_kwargs = {\n",
        "  'eval_batch_size':2000\n",
        "  }"
      ],
      "metadata": {
        "id": "S6uzd7UNxX8U"
      },
      "execution_count": 69,
      "outputs": []
    },
    {
      "cell_type": "code",
      "source": [
        "# Make the plot generator\n",
        "plot_generator = SupervisedPlotGenerator(\n",
        "\t\tspec=spec,\n",
        "\t\tn_trials=n_trials,\n",
        "\t\tdata_fracs=data_fracs,\n",
        "\t\tn_workers=n_workers,\n",
        "\t\tdatagen_method='resample',\n",
        "\t\tperf_eval_fn=perf_eval_fn,\n",
        "\t\tconstraint_eval_fns=[],\n",
        "\t\tconstraint_eval_kwargs=constraint_eval_kwargs,\n",
        "\t\tresults_dir=results_dir,\n",
        "\t\tperf_eval_kwargs=perf_eval_kwargs,\n",
        "\t\tbatch_epoch_dict=batch_epoch_dict,\n",
        "\t\t)\n"
      ],
      "metadata": {
        "id": "8LDPGQgNxjxp"
      },
      "execution_count": 70,
      "outputs": []
    },
    {
      "cell_type": "code",
      "source": [
        "# Run Seldonian experiment\n",
        "plot_generator.run_seldonian_experiment(verbose=verbose)"
      ],
      "metadata": {
        "colab": {
          "base_uri": "https://localhost:8080/"
        },
        "id": "jGO4XSXTxrqJ",
        "outputId": "73289b54-92f2-4472-b975-ff120d924a08"
      },
      "execution_count": 71,
      "outputs": [
        {
          "output_type": "stream",
          "name": "stdout",
          "text": [
            "generating resampled datasets\n",
            "Saved ./resampled_dataframes/trial_0.pkl\n",
            "Saved ./resampled_dataframes/trial_1.pkl\n",
            "Saved ./resampled_dataframes/trial_2.pkl\n",
            "Saved ./resampled_dataframes/trial_3.pkl\n",
            "Saved ./resampled_dataframes/trial_4.pkl\n",
            "Saved ./resampled_dataframes/trial_5.pkl\n",
            "Saved ./resampled_dataframes/trial_6.pkl\n",
            "Saved ./resampled_dataframes/trial_7.pkl\n",
            "Saved ./resampled_dataframes/trial_8.pkl\n",
            "Saved ./resampled_dataframes/trial_9.pkl\n",
            "Done generating resampled datasets\n",
            "\n",
            "Saved ./qsa_results/qsa_results.csv\n"
          ]
        }
      ]
    },
    {
      "cell_type": "markdown",
      "source": [
        "In addition to the QSA files that we pre-populated, we also pre-populated the experiment results from the gender classifier example. In that example, we generated results for the QSA using the full network as the Seldonian model as well as the full network without any constraints. So we have three models to compare. Let's plot them using the Experiments library. "
      ],
      "metadata": {
        "id": "TU_SyNyM0fvX"
      }
    },
    {
      "cell_type": "code",
      "source": [
        "plot_generator.make_plots(\n",
        "  model_label_dict=model_label_dict,fontsize=12,legend_fontsize=8,\n",
        "  performance_label=performance_metric,\n",
        "  include_legend=include_legend)"
      ],
      "metadata": {
        "colab": {
          "base_uri": "https://localhost:8080/",
          "height": 316
        },
        "id": "bTnDNi6A0_jE",
        "outputId": "b62a91fb-bfff-416e-9c3f-d94840eeb513"
      },
      "execution_count": 72,
      "outputs": [
        {
          "output_type": "display_data",
          "data": {
            "text/plain": [
              "<Figure size 648x324 with 3 Axes>"
            ],
            "image/png": "[encoded data removed]"
          },
          "metadata": {
            "needs_background": "light"
          }
        }
      ]
    },
    {
      "cell_type": "markdown",
      "source": [
        "In these plots we see the accuracy (left), probability of solution (middle) and probability that the constraint was violated (right) for the three different models. The orange model is the full convolutional neural network without any constraints. It has the highest accuracy (left), but violates the constraint frequently (right). The green model is the QSA using the full network. Running an experiment with this model is very slow because all of the parameters in all layers of the network need to be trained subject to the constraint. The blue model is the model we built in this notebook. It has 256 parameters versus the 147,682 parameters (only 0.2%!) of the full network. Despite being a vastly simpler model, it  performs as well as the full network and it similarly never violates the fairness constraint."
      ],
      "metadata": {
        "id": "e597t9Hj1IAD"
      }
    },
    {
      "cell_type": "markdown",
      "source": [
        "<a name=\"summary\"></a>\n",
        "# Summary\n",
        "In this tutorial, we demonstrated a strategy for efficiently applying fairness constraints to deep neural networks using the Seldonian Toolkit. The key to this method is that we don't necessarily need to re-learn most of the parameters of the network, such as basic feature-learning layers, in order to ensure a fair/safe model. We applied this technique to the <a href=\"https://seldonian.cs.umass.edu/Tutorials/examples/facial_recognition/\">Gender bias in facial recognition example</a>, using a model consisting of only the final layer of the network in the Seldonian algorithm. We found that we were able to obtain an equally high-performing and fair model as the model trained using the entire network. \n",
        "\n",
        "We expect that this technique is not specific to this particular deep network, but can be applied to a range of deep learning problems. In this example, we split the model into body and head networks in such as way as to make the head the smallest possible model. It worked in this example because the final layer had enough parameters to find a solution that was high-performing and able to pass the safety test. In general, splitting at the final layer may not always work. It is possible that a different model's final layer may not have enough parameters to ensure a safe/fair model.  The choice of where to split the model, i.e., what to define as the body and the head of the network, is one we are currently exploring. It is likely dependent on the model architecture and the complexity of the constraint(s). "
      ],
      "metadata": {
        "id": "wV9xR0hzYV4W"
      }
    }
  ]
}