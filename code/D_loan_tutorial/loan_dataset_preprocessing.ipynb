{
 "cells": [
  {
   "cell_type": "code",
   "execution_count": 1,
   "id": "a21c86b2",
   "metadata": {},
   "outputs": [],
   "source": [
    "import os\n",
    "import numpy as np\n",
    "import pandas as pd\n",
    "import json\n",
    "from sklearn.preprocessing import LabelEncoder\n",
    "from sklearn.preprocessing import OneHotEncoder\n",
    "from sklearn.preprocessing import StandardScaler\n",
    "from sklearn.compose import ColumnTransformer\n",
    "\n",
    "from seldonian.utils.io_utils import save_json\n",
    "\n",
    "import matplotlib.pyplot as plt\n",
    "%matplotlib inline"
   ]
  },
  {
   "cell_type": "code",
   "execution_count": 2,
   "id": "4bd1c265",
   "metadata": {},
   "outputs": [],
   "source": [
    "# Helpful reference: https://machinelearningmastery.com/imbalanced-classification-of-good-and-bad-credit/\n",
    "\n",
    "# Point to german.csv file on your filesystem\n",
    "f_orig = \"/Users/ahoag/beri/code/datasets/german_credit/german.csv\""
   ]
  },
  {
   "cell_type": "code",
   "execution_count": 3,
   "id": "e298ef96",
   "metadata": {},
   "outputs": [],
   "source": [
    "columns_orig = [\n",
    "    \"account_status\",\"months\",\"credit_history\",\n",
    "    \"purpose\",\"credit_amount\",\"savings_accounts\",\n",
    "    \"employment_since\",\"installment_rate\",\"personal_status\",\n",
    "    \"other_debtors\",\"present_residence_since\",\"property\",\n",
    "    \"age_yrs\",\"other_installment_plans\",\"housing\",\n",
    "    \"num_existing_credits\",\"job\",\"num_people_liable\",\n",
    "    \"telephone\",\"foreign_worker\",\"credit_rating\"]\n",
    "\n",
    "def make_seldonian_dataset(input_path,output_path_data,output_path_metadata):\n",
    "    \"\"\" load the dataset into features and label arrays.\n",
    "    One-hot encode categorical features,\n",
    "    scale numerical features to have unit variance and 0 mean\n",
    "    and then encode label column to have binary output: \n",
    "    0: good credit and 1: bad credit. \n",
    "    Finally, save resulting dataframe to a CSV file\n",
    "    and make metadata JSON file\n",
    "    \n",
    "    :param input_path: The path to the original dataset in CSV format\n",
    "    :type input_path: str\n",
    "    \n",
    "    :param output_path_data: The filename for saving the reformated dataset file \n",
    "    :type output_path_data: str\n",
    "\n",
    "    :param output_path_metadata: The filename for saving the reformated metadata file \n",
    "    :type output_path_metadata: str\n",
    "    \"\"\"\n",
    "    \n",
    "    df = pd.read_csv(input_path,header=None,names=columns_orig)\n",
    "    \n",
    "    # split into inputs and outputs\n",
    "    X = df.drop(columns=[\"credit_rating\"])\n",
    "    y = df[\"credit_rating\"]\n",
    "    \n",
    "    # Need to make male and female columns from personal status column and then remove the personal_status column\n",
    "    # A91, A93 and A94 are male and A92, A95 are female\n",
    "    female_mask = np.logical_or(X['personal_status']=='A92',X['personal_status']=='A95')\n",
    "    X.loc[female_mask,'personal_status'] = \"F\"\n",
    "    X.loc[~female_mask,'personal_status'] = \"M\"\n",
    "    \n",
    "    # rename column to sex\n",
    "    X.rename(columns={'personal_status':'sex'},inplace=True)\n",
    "    \n",
    "    # select categorical features and numerical features\n",
    "    cat_ix = X.select_dtypes(include=['object', 'bool']).columns\n",
    "    num_ix = X.select_dtypes(include=['int64', 'float64']).columns\n",
    "\n",
    "    # one hot encode cat features only, scale numerical features using standard scaler \n",
    "    ct = ColumnTransformer([('c',OneHotEncoder(),cat_ix), ('n',StandardScaler(),num_ix)])\n",
    "    \n",
    "    # Apply transformation\n",
    "    X = ct.fit_transform(X)\n",
    "\n",
    "    # label encode the target variable to have the classes 0 and 1\n",
    "    # 0 is good credit, 1 is bad credit\n",
    "    y = LabelEncoder().fit_transform(y)\n",
    "    \n",
    "    # Get names after one-hot encoding\n",
    "    output_columns = ct.get_feature_names_out(ct.feature_names_in_)\n",
    "    \n",
    "    # Make an output dataframe to save from X and y\n",
    "    outdf = pd.DataFrame(X,columns=output_columns)\n",
    "    \n",
    "    # Change name of the two one-hot encoded sex columns to M and F\n",
    "    outdf.rename(columns={'c__sex_F':'F','c__sex_M':'M'},inplace=True)\n",
    "    \n",
    "    # Add label column into final dataframe\n",
    "    outdf['credit_rating'] = y\n",
    "    \n",
    "    # Save final dataframe\n",
    "    outdf.to_csv(output_path_data,index=False,header=False)\n",
    "    print(f\"Saved data file to: {output_path_data}\")\n",
    "    print()\n",
    "    \n",
    "    # Save metadata json file\n",
    "    metadata_dict = {\n",
    "        \"regime\":\"supervised_learning\",\n",
    "        \"sub_regime\":\"classification\",\n",
    "        \"columns\":list(outdf.columns),\n",
    "        \"label_column\":\"credit_rating\",\n",
    "        \"sensitive_columns\":[\"F\",\"M\"]\n",
    "    }\n",
    "    \n",
    "    with open(output_path_metadata,'w') as outfile:\n",
    "        json.dump(metadata_dict,outfile,indent=2)\n",
    "    print(f\"Saved metadata file to: {output_path_metadata}\")\n",
    "    return "
   ]
  },
  {
   "cell_type": "code",
   "execution_count": 4,
   "id": "99f8772e",
   "metadata": {},
   "outputs": [
    {
     "name": "stdout",
     "output_type": "stream",
     "text": [
      "Saved data file to: german_loan_numeric_forseldonian.csv\n",
      "\n",
      "Saved metadata file to: metadata_german_loan.json\n"
     ]
    }
   ],
   "source": [
    "make_seldonian_dataset(\n",
    "    input_path=f_orig,\n",
    "    output_path_data=\"german_loan_numeric_forseldonian.csv\",\n",
    "    output_path_metadata=\"metadata_german_loan.json\")"
   ]
  }
 ],
 "metadata": {
  "kernelspec": {
   "display_name": "seldo",
   "language": "python",
   "name": "seldo"
  },
  "language_info": {
   "codemirror_mode": {
    "name": "ipython",
    "version": 3
   },
   "file_extension": ".py",
   "mimetype": "text/x-python",
   "name": "python",
   "nbconvert_exporter": "python",
   "pygments_lexer": "ipython3",
   "version": "3.8.12"
  }
 },
 "nbformat": 4,
 "nbformat_minor": 5
}
